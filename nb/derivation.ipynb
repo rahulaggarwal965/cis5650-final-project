{
 "cells": [
  {
   "cell_type": "code",
   "execution_count": null,
   "metadata": {},
   "outputs": [],
   "source": [
    "import sympy as sp\n",
    "from sympy.abc import symbols"
   ]
  },
  {
   "cell_type": "code",
   "execution_count": 96,
   "metadata": {},
   "outputs": [],
   "source": [
    "t_x, t_y, t_z = symbols(\"t_x, t_y, t_z\", real=True)\n",
    "\n",
    "t = sp.Matrix([t_x, t_y, t_z])"
   ]
  },
  {
   "cell_type": "code",
   "execution_count": 116,
   "metadata": {},
   "outputs": [
    {
     "data": {
      "text/latex": [
       "$\\displaystyle \\left[\\begin{matrix}\\frac{- c_{x} + u}{f_{x} \\sqrt{1 + \\frac{\\left(c_{y} - v\\right)^{2}}{f_{y}^{2}} + \\frac{\\left(c_{x} - u\\right)^{2}}{f_{x}^{2}}}}\\\\\\frac{- c_{y} + v}{f_{y} \\sqrt{1 + \\frac{\\left(c_{y} - v\\right)^{2}}{f_{y}^{2}} + \\frac{\\left(c_{x} - u\\right)^{2}}{f_{x}^{2}}}}\\\\\\frac{1}{\\sqrt{1 + \\frac{\\left(c_{y} - v\\right)^{2}}{f_{y}^{2}} + \\frac{\\left(c_{x} - u\\right)^{2}}{f_{x}^{2}}}}\\end{matrix}\\right]$"
      ],
      "text/plain": [
       "Matrix([\n",
       "[(-c_x + u)/(f_x*sqrt(1 + (c_y - v)**2/f_y**2 + (c_x - u)**2/f_x**2))],\n",
       "[(-c_y + v)/(f_y*sqrt(1 + (c_y - v)**2/f_y**2 + (c_x - u)**2/f_x**2))],\n",
       "[               1/sqrt(1 + (c_y - v)**2/f_y**2 + (c_x - u)**2/f_x**2)]])"
      ]
     },
     "execution_count": 116,
     "metadata": {},
     "output_type": "execute_result"
    }
   ],
   "source": [
    "c_x, c_y, f_x, f_y = symbols(\"c_x, c_y, f_x, f_y\", positive=True, real=True)\n",
    "u, v = symbols(\"u, v\", real=True)\n",
    "\n",
    "r = sp.Matrix([\n",
    "    (u - c_x) / f_x,\n",
    "    (v - c_y) / f_y,\n",
    "    1\n",
    "])\n",
    "\n",
    "mu = r / r.norm()\n",
    "# mu_f.simplify()\n",
    "mu"
   ]
  },
  {
   "cell_type": "code",
   "execution_count": 123,
   "metadata": {},
   "outputs": [],
   "source": [
    "r_x, r_y, r_z = r[0], r[1], r[2]\n",
    "r_xz_norm = sp.Matrix([r_x, r_z]).norm()\n",
    "theta = sp.atan2(-r[1], r_xz_norm)\n",
    "phi = sp.atan2(r_x, r_z)"
   ]
  },
  {
   "cell_type": "code",
   "execution_count": 109,
   "metadata": {},
   "outputs": [],
   "source": [
    "mu = sp.Matrix([\n",
    "    sp.cos(theta) * sp.sin(phi),\n",
    "    -sp.sin(theta),\n",
    "    sp.cos(theta) * sp.cos(phi)\n",
    "])"
   ]
  },
  {
   "cell_type": "code",
   "execution_count": 110,
   "metadata": {},
   "outputs": [
    {
     "data": {
      "text/latex": [
       "$\\displaystyle \\left[\\begin{matrix}\\frac{- c_{x} + u}{f_{x} \\sqrt{1 + \\frac{\\left(- c_{x} + u\\right)^{2}}{f_{x}^{2}}} \\sqrt{1 + \\frac{\\left(- c_{y} + v\\right)^{2}}{f_{y}^{2} \\cdot \\left(1 + \\frac{\\left(c_{x} - u\\right)^{2}}{f_{x}^{2}}\\right)}}}\\\\\\frac{- c_{y} + v}{f_{y} \\sqrt{1 + \\frac{\\left(c_{x} - u\\right)^{2}}{f_{x}^{2}}} \\sqrt{1 + \\frac{\\left(- c_{y} + v\\right)^{2}}{f_{y}^{2} \\cdot \\left(1 + \\frac{\\left(c_{x} - u\\right)^{2}}{f_{x}^{2}}\\right)}}}\\\\\\frac{1}{\\sqrt{1 + \\frac{\\left(- c_{x} + u\\right)^{2}}{f_{x}^{2}}} \\sqrt{1 + \\frac{\\left(- c_{y} + v\\right)^{2}}{f_{y}^{2} \\cdot \\left(1 + \\frac{\\left(c_{x} - u\\right)^{2}}{f_{x}^{2}}\\right)}}}\\end{matrix}\\right]$"
      ],
      "text/plain": [
       "Matrix([\n",
       "[(-c_x + u)/(f_x*sqrt(1 + (-c_x + u)**2/f_x**2)*sqrt(1 + (-c_y + v)**2/(f_y**2*(1 + (c_x - u)**2/f_x**2))))],\n",
       "[ (-c_y + v)/(f_y*sqrt(1 + (c_x - u)**2/f_x**2)*sqrt(1 + (-c_y + v)**2/(f_y**2*(1 + (c_x - u)**2/f_x**2))))],\n",
       "[             1/(sqrt(1 + (-c_x + u)**2/f_x**2)*sqrt(1 + (-c_y + v)**2/(f_y**2*(1 + (c_x - u)**2/f_x**2))))]])"
      ]
     },
     "execution_count": 110,
     "metadata": {},
     "output_type": "execute_result"
    }
   ],
   "source": [
    "#mu.simplify()\n",
    "mu"
   ]
  },
  {
   "cell_type": "code",
   "execution_count": 117,
   "metadata": {},
   "outputs": [],
   "source": [
    "mu_norm = mu.norm().simplify()\n",
    "# mu_f_norm = mu_f.norm().simplify()"
   ]
  },
  {
   "cell_type": "code",
   "execution_count": 119,
   "metadata": {},
   "outputs": [
    {
     "data": {
      "text/latex": [
       "$\\displaystyle \\left[\\begin{matrix}\\frac{\\sqrt{f_{x}^{2} f_{y}^{2} + f_{x}^{2} \\left(c_{y} - v\\right)^{2} + f_{y}^{2} \\left(c_{x} - u\\right)^{2}}}{f_{y} \\sqrt{f_{x}^{2} + \\left(c_{x} - u\\right)^{2}} \\sqrt{1 + \\frac{\\left(c_{y} - v\\right)^{2}}{f_{y}^{2}} + \\frac{\\left(c_{x} - u\\right)^{2}}{f_{x}^{2}}}} & 0 & - \\frac{\\left(- c_{x} + u\\right) \\sqrt{f_{x}^{2} f_{y}^{2} + f_{x}^{2} \\left(c_{y} - v\\right)^{2} + f_{y}^{2} \\left(c_{x} - u\\right)^{2}}}{f_{x} f_{y} \\sqrt{f_{x}^{2} + \\left(c_{x} - u\\right)^{2}} \\sqrt{1 + \\frac{\\left(c_{y} - v\\right)^{2}}{f_{y}^{2}} + \\frac{\\left(c_{x} - u\\right)^{2}}{f_{x}^{2}}}}\\\\- \\frac{\\left(- c_{x} + u\\right) \\left(- c_{y} + v\\right) \\sqrt{f_{x}^{2} f_{y}^{2} + f_{x}^{2} \\left(c_{y} - v\\right)^{2} + f_{y}^{2} \\left(c_{x} - u\\right)^{2}}}{f_{x} f_{y}^{2} \\sqrt{f_{x}^{2} + \\left(c_{x} - u\\right)^{2}} \\cdot \\left(1 + \\frac{\\left(c_{y} - v\\right)^{2}}{f_{y}^{2}} + \\frac{\\left(c_{x} - u\\right)^{2}}{f_{x}^{2}}\\right)} & \\frac{f_{y} \\sqrt{f_{x}^{2} + \\left(c_{x} - u\\right)^{2}}}{\\sqrt{f_{x}^{2} f_{y}^{2} + f_{x}^{2} \\left(c_{y} - v\\right)^{2} + f_{y}^{2} \\left(c_{x} - u\\right)^{2}}} & - \\frac{\\left(- c_{y} + v\\right) \\sqrt{f_{x}^{2} f_{y}^{2} + f_{x}^{2} \\left(c_{y} - v\\right)^{2} + f_{y}^{2} \\left(c_{x} - u\\right)^{2}}}{f_{y}^{2} \\sqrt{f_{x}^{2} + \\left(c_{x} - u\\right)^{2}} \\cdot \\left(1 + \\frac{\\left(c_{y} - v\\right)^{2}}{f_{y}^{2}} + \\frac{\\left(c_{x} - u\\right)^{2}}{f_{x}^{2}}\\right)}\\\\\\frac{- c_{x} + u}{f_{x} \\sqrt{1 + \\frac{\\left(c_{y} - v\\right)^{2}}{f_{y}^{2}} + \\frac{\\left(c_{x} - u\\right)^{2}}{f_{x}^{2}}}} & \\frac{- c_{y} + v}{f_{y} \\sqrt{1 + \\frac{\\left(c_{y} - v\\right)^{2}}{f_{y}^{2}} + \\frac{\\left(c_{x} - u\\right)^{2}}{f_{x}^{2}}}} & \\frac{1}{\\sqrt{1 + \\frac{\\left(c_{y} - v\\right)^{2}}{f_{y}^{2}} + \\frac{\\left(c_{x} - u\\right)^{2}}{f_{x}^{2}}}}\\end{matrix}\\right]$"
      ],
      "text/plain": [
       "Matrix([\n",
       "[                          sqrt(f_x**2*f_y**2 + f_x**2*(c_y - v)**2 + f_y**2*(c_x - u)**2)/(f_y*sqrt(f_x**2 + (c_x - u)**2)*sqrt(1 + (c_y - v)**2/f_y**2 + (c_x - u)**2/f_x**2)),                                                                                               0, -(-c_x + u)*sqrt(f_x**2*f_y**2 + f_x**2*(c_y - v)**2 + f_y**2*(c_x - u)**2)/(f_x*f_y*sqrt(f_x**2 + (c_x - u)**2)*sqrt(1 + (c_y - v)**2/f_y**2 + (c_x - u)**2/f_x**2))],\n",
       "[-(-c_x + u)*(-c_y + v)*sqrt(f_x**2*f_y**2 + f_x**2*(c_y - v)**2 + f_y**2*(c_x - u)**2)/(f_x*f_y**2*sqrt(f_x**2 + (c_x - u)**2)*(1 + (c_y - v)**2/f_y**2 + (c_x - u)**2/f_x**2)), f_y*sqrt(f_x**2 + (c_x - u)**2)/sqrt(f_x**2*f_y**2 + f_x**2*(c_y - v)**2 + f_y**2*(c_x - u)**2),      -(-c_y + v)*sqrt(f_x**2*f_y**2 + f_x**2*(c_y - v)**2 + f_y**2*(c_x - u)**2)/(f_y**2*sqrt(f_x**2 + (c_x - u)**2)*(1 + (c_y - v)**2/f_y**2 + (c_x - u)**2/f_x**2))],\n",
       "[                                                                                                           (-c_x + u)/(f_x*sqrt(1 + (c_y - v)**2/f_y**2 + (c_x - u)**2/f_x**2)),                            (-c_y + v)/(f_y*sqrt(1 + (c_y - v)**2/f_y**2 + (c_x - u)**2/f_x**2)),                                                                                                                 1/sqrt(1 + (c_y - v)**2/f_y**2 + (c_x - u)**2/f_x**2)]])"
      ]
     },
     "execution_count": 119,
     "metadata": {},
     "output_type": "execute_result"
    }
   ],
   "source": [
    "mu_x, mu_y, mu_z = mu[0], mu[1], mu[2]\n",
    "\n",
    "mu_xz = sp.Matrix([mu_x, mu_z])\n",
    "mu_xz_norm = mu_xz.norm().simplify()\n",
    "\n",
    "Q = sp.Matrix([\n",
    "    [mu_z/mu_xz_norm, 0, -mu_x/mu_xz_norm],\n",
    "    [-(mu_x * mu_y)/(mu_xz_norm * mu_norm), mu_xz_norm / mu_norm, -(mu_y * mu_z)/(mu_xz_norm * mu_norm)],\n",
    "    [mu_x / mu_norm, mu_y / mu_norm, mu_z / mu_norm]\n",
    "])\n",
    "# Q.simplify()\n",
    "Q"
   ]
  },
  {
   "cell_type": "code",
   "execution_count": 120,
   "metadata": {},
   "outputs": [
    {
     "data": {
      "text/latex": [
       "$\\displaystyle \\left[\\begin{matrix}\\frac{t_{x}}{\\frac{t_{z}}{\\sqrt{1 + \\frac{\\left(c_{y} - v\\right)^{2}}{f_{y}^{2}} + \\frac{\\left(c_{x} - u\\right)^{2}}{f_{x}^{2}}}} + \\frac{t_{y} \\left(- c_{y} + v\\right)}{f_{y} \\sqrt{1 + \\frac{\\left(c_{y} - v\\right)^{2}}{f_{y}^{2}} + \\frac{\\left(c_{x} - u\\right)^{2}}{f_{x}^{2}}}} + \\frac{t_{x} \\left(- c_{x} + u\\right)}{f_{x} \\sqrt{1 + \\frac{\\left(c_{y} - v\\right)^{2}}{f_{y}^{2}} + \\frac{\\left(c_{x} - u\\right)^{2}}{f_{x}^{2}}}}}\\\\\\frac{t_{y}}{\\frac{t_{z}}{\\sqrt{1 + \\frac{\\left(c_{y} - v\\right)^{2}}{f_{y}^{2}} + \\frac{\\left(c_{x} - u\\right)^{2}}{f_{x}^{2}}}} + \\frac{t_{y} \\left(- c_{y} + v\\right)}{f_{y} \\sqrt{1 + \\frac{\\left(c_{y} - v\\right)^{2}}{f_{y}^{2}} + \\frac{\\left(c_{x} - u\\right)^{2}}{f_{x}^{2}}}} + \\frac{t_{x} \\left(- c_{x} + u\\right)}{f_{x} \\sqrt{1 + \\frac{\\left(c_{y} - v\\right)^{2}}{f_{y}^{2}} + \\frac{\\left(c_{x} - u\\right)^{2}}{f_{x}^{2}}}}}\\\\\\frac{t_{z}}{\\frac{t_{z}}{\\sqrt{1 + \\frac{\\left(c_{y} - v\\right)^{2}}{f_{y}^{2}} + \\frac{\\left(c_{x} - u\\right)^{2}}{f_{x}^{2}}}} + \\frac{t_{y} \\left(- c_{y} + v\\right)}{f_{y} \\sqrt{1 + \\frac{\\left(c_{y} - v\\right)^{2}}{f_{y}^{2}} + \\frac{\\left(c_{x} - u\\right)^{2}}{f_{x}^{2}}}} + \\frac{t_{x} \\left(- c_{x} + u\\right)}{f_{x} \\sqrt{1 + \\frac{\\left(c_{y} - v\\right)^{2}}{f_{y}^{2}} + \\frac{\\left(c_{x} - u\\right)^{2}}{f_{x}^{2}}}}}\\end{matrix}\\right]$"
      ],
      "text/plain": [
       "Matrix([\n",
       "[t_x/(t_z/sqrt(1 + (c_y - v)**2/f_y**2 + (c_x - u)**2/f_x**2) + t_y*(-c_y + v)/(f_y*sqrt(1 + (c_y - v)**2/f_y**2 + (c_x - u)**2/f_x**2)) + t_x*(-c_x + u)/(f_x*sqrt(1 + (c_y - v)**2/f_y**2 + (c_x - u)**2/f_x**2)))],\n",
       "[t_y/(t_z/sqrt(1 + (c_y - v)**2/f_y**2 + (c_x - u)**2/f_x**2) + t_y*(-c_y + v)/(f_y*sqrt(1 + (c_y - v)**2/f_y**2 + (c_x - u)**2/f_x**2)) + t_x*(-c_x + u)/(f_x*sqrt(1 + (c_y - v)**2/f_y**2 + (c_x - u)**2/f_x**2)))],\n",
       "[t_z/(t_z/sqrt(1 + (c_y - v)**2/f_y**2 + (c_x - u)**2/f_x**2) + t_y*(-c_y + v)/(f_y*sqrt(1 + (c_y - v)**2/f_y**2 + (c_x - u)**2/f_x**2)) + t_x*(-c_x + u)/(f_x*sqrt(1 + (c_y - v)**2/f_y**2 + (c_x - u)**2/f_x**2)))]])"
      ]
     },
     "execution_count": 120,
     "metadata": {},
     "output_type": "execute_result"
    }
   ],
   "source": [
    "x_2d = t / mu.dot(t)\n",
    "# x_2d.simplify()\n",
    "x_2d"
   ]
  },
  {
   "cell_type": "code",
   "execution_count": 121,
   "metadata": {},
   "outputs": [
    {
     "data": {
      "text/latex": [
       "$\\displaystyle \\left[\\begin{matrix}\\frac{\\left(- f_{x} t_{x} - t_{z} \\left(c_{x} - u\\right)\\right) \\sqrt{f_{x}^{2} f_{y}^{2} + f_{x}^{2} \\left(c_{y} - v\\right)^{2} + f_{y}^{2} \\left(c_{x} - u\\right)^{2}}}{\\sqrt{f_{x}^{2} + \\left(c_{x} - u\\right)^{2}} \\left(- f_{x} f_{y} t_{z} + f_{x} t_{y} \\left(c_{y} - v\\right) + f_{y} t_{x} \\left(c_{x} - u\\right)\\right)}\\\\\\frac{f_{x} \\left(c_{y} - v\\right) \\left(- f_{x} t_{z} + t_{x} \\left(c_{x} - u\\right)\\right) - f_{y} t_{y} \\left(f_{x}^{2} + \\left(c_{x} - u\\right)^{2}\\right)}{\\sqrt{f_{x}^{2} + \\left(c_{x} - u\\right)^{2}} \\left(- f_{x} f_{y} t_{z} + f_{x} t_{y} \\left(c_{y} - v\\right) + f_{y} t_{x} \\left(c_{x} - u\\right)\\right)}\\\\1\\end{matrix}\\right]$"
      ],
      "text/plain": [
       "Matrix([\n",
       "[(-f_x*t_x - t_z*(c_x - u))*sqrt(f_x**2*f_y**2 + f_x**2*(c_y - v)**2 + f_y**2*(c_x - u)**2)/(sqrt(f_x**2 + (c_x - u)**2)*(-f_x*f_y*t_z + f_x*t_y*(c_y - v) + f_y*t_x*(c_x - u)))],\n",
       "[              (f_x*(c_y - v)*(-f_x*t_z + t_x*(c_x - u)) - f_y*t_y*(f_x**2 + (c_x - u)**2))/(sqrt(f_x**2 + (c_x - u)**2)*(-f_x*f_y*t_z + f_x*t_y*(c_y - v) + f_y*t_x*(c_x - u)))],\n",
       "[                                                                                                                                                                              1]])"
      ]
     },
     "execution_count": 121,
     "metadata": {},
     "output_type": "execute_result"
    }
   ],
   "source": [
    "d = Q @ x_2d\n",
    "d.simplify()\n",
    "d"
   ]
  },
  {
   "cell_type": "code",
   "execution_count": 122,
   "metadata": {},
   "outputs": [
    {
     "data": {
      "text/latex": [
       "$\\displaystyle - \\frac{f_{y}^{2} \\left(- 2 c_{x} + 2 u\\right) \\left(- f_{x} t_{x} - t_{z} \\left(c_{x} - u\\right)\\right)}{2 \\sqrt{f_{x}^{2} + \\left(c_{x} - u\\right)^{2}} \\sqrt{f_{x}^{2} f_{y}^{2} + f_{x}^{2} \\left(c_{y} - v\\right)^{2} + f_{y}^{2} \\left(c_{x} - u\\right)^{2}} \\left(- f_{x} f_{y} t_{z} + f_{x} t_{y} \\left(c_{y} - v\\right) + f_{y} t_{x} \\left(c_{x} - u\\right)\\right)} - \\frac{f_{y} t_{x} \\left(- f_{x} t_{x} - t_{z} \\left(c_{x} - u\\right)\\right) \\sqrt{f_{x}^{2} f_{y}^{2} + f_{x}^{2} \\left(c_{y} - v\\right)^{2} + f_{y}^{2} \\left(c_{x} - u\\right)^{2}}}{\\sqrt{f_{x}^{2} + \\left(c_{x} - u\\right)^{2}} \\left(- f_{x} f_{y} t_{z} + f_{x} t_{y} \\left(c_{y} - v\\right) + f_{y} t_{x} \\left(c_{x} - u\\right)\\right)^{2}} - \\frac{t_{z} \\sqrt{f_{x}^{2} f_{y}^{2} + f_{x}^{2} \\left(c_{y} - v\\right)^{2} + f_{y}^{2} \\left(c_{x} - u\\right)^{2}}}{\\sqrt{f_{x}^{2} + \\left(c_{x} - u\\right)^{2}} \\left(- f_{x} f_{y} t_{z} + f_{x} t_{y} \\left(c_{y} - v\\right) + f_{y} t_{x} \\left(c_{x} - u\\right)\\right)} - \\frac{\\left(c_{x} - u\\right) \\left(- f_{x} t_{x} - t_{z} \\left(c_{x} - u\\right)\\right) \\sqrt{f_{x}^{2} f_{y}^{2} + f_{x}^{2} \\left(c_{y} - v\\right)^{2} + f_{y}^{2} \\left(c_{x} - u\\right)^{2}}}{\\left(f_{x}^{2} + \\left(c_{x} - u\\right)^{2}\\right)^{\\frac{3}{2}} \\left(- f_{x} f_{y} t_{z} + f_{x} t_{y} \\left(c_{y} - v\\right) + f_{y} t_{x} \\left(c_{x} - u\\right)\\right)}$"
      ],
      "text/plain": [
       "-f_y**2*(-2*c_x + 2*u)*(-f_x*t_x - t_z*(c_x - u))/(2*sqrt(f_x**2 + (c_x - u)**2)*sqrt(f_x**2*f_y**2 + f_x**2*(c_y - v)**2 + f_y**2*(c_x - u)**2)*(-f_x*f_y*t_z + f_x*t_y*(c_y - v) + f_y*t_x*(c_x - u))) - f_y*t_x*(-f_x*t_x - t_z*(c_x - u))*sqrt(f_x**2*f_y**2 + f_x**2*(c_y - v)**2 + f_y**2*(c_x - u)**2)/(sqrt(f_x**2 + (c_x - u)**2)*(-f_x*f_y*t_z + f_x*t_y*(c_y - v) + f_y*t_x*(c_x - u))**2) - t_z*sqrt(f_x**2*f_y**2 + f_x**2*(c_y - v)**2 + f_y**2*(c_x - u)**2)/(sqrt(f_x**2 + (c_x - u)**2)*(-f_x*f_y*t_z + f_x*t_y*(c_y - v) + f_y*t_x*(c_x - u))) - (c_x - u)*(-f_x*t_x - t_z*(c_x - u))*sqrt(f_x**2*f_y**2 + f_x**2*(c_y - v)**2 + f_y**2*(c_x - u)**2)/((f_x**2 + (c_x - u)**2)**(3/2)*(-f_x*f_y*t_z + f_x*t_y*(c_y - v) + f_y*t_x*(c_x - u)))"
      ]
     },
     "execution_count": 122,
     "metadata": {},
     "output_type": "execute_result"
    }
   ],
   "source": [
    "d_x, d_y = -d[0], -d[1]\n",
    "deld_x_delu = sp.diff(d_x, u)\n",
    "deld_x_delu.simplify()\n",
    "deld_x_delu"
   ]
  },
  {
   "cell_type": "code",
   "execution_count": null,
   "metadata": {},
   "outputs": [],
   "source": [
    "u_x = f_x * (t_x * sp.cos(phi) - t_z * sp.sin(phi)) / "
   ]
  }
 ],
 "metadata": {
  "kernelspec": {
   "display_name": "optisplat",
   "language": "python",
   "name": "python3"
  },
  "language_info": {
   "codemirror_mode": {
    "name": "ipython",
    "version": 3
   },
   "file_extension": ".py",
   "mimetype": "text/x-python",
   "name": "python",
   "nbconvert_exporter": "python",
   "pygments_lexer": "ipython3",
   "version": "3.7.12"
  }
 },
 "nbformat": 4,
 "nbformat_minor": 2
}
