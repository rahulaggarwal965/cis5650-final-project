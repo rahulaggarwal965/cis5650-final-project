{
 "cells": [
  {
   "cell_type": "code",
   "execution_count": 1,
   "metadata": {},
   "outputs": [],
   "source": [
    "import sympy as sp\n",
    "from sympy.abc import symbols\n",
    "from sympy import init_printing"
   ]
  },
  {
   "cell_type": "code",
   "execution_count": 2,
   "metadata": {},
   "outputs": [],
   "source": [
    "r_x, r_y, r_z = symbols(\"r_x, r_y, r_z\", real=True)\n",
    "mu_x, mu_y, mu_z = symbols(\"mu_x, mu_y, mu_z\", real=True)\n",
    "t_x, t_y, t_z = symbols(\"t_x, t_y, t_z\", real=True)"
   ]
  },
  {
   "cell_type": "code",
   "execution_count": 3,
   "metadata": {},
   "outputs": [
    {
     "data": {
      "text/latex": [
       "$\\displaystyle \\left[\\begin{matrix}\\frac{\\left(- c_{x} + u\\right) \\sin{\\left(\\sqrt{\\frac{\\left(c_{y} - v\\right)^{2}}{f_{y}^{2}} + \\frac{\\left(c_{x} - u\\right)^{2}}{f_{x}^{2}}} \\right)}}{f_{x} \\sqrt{\\frac{\\left(c_{y} - v\\right)^{2}}{f_{y}^{2}} + \\frac{\\left(c_{x} - u\\right)^{2}}{f_{x}^{2}}}}\\\\\\frac{\\left(- c_{y} + v\\right) \\sin{\\left(\\sqrt{\\frac{\\left(c_{y} - v\\right)^{2}}{f_{y}^{2}} + \\frac{\\left(c_{x} - u\\right)^{2}}{f_{x}^{2}}} \\right)}}{f_{y} \\sqrt{\\frac{\\left(c_{y} - v\\right)^{2}}{f_{y}^{2}} + \\frac{\\left(c_{x} - u\\right)^{2}}{f_{x}^{2}}}}\\\\\\cos{\\left(\\sqrt{\\frac{\\left(c_{y} - v\\right)^{2}}{f_{y}^{2}} + \\frac{\\left(c_{x} - u\\right)^{2}}{f_{x}^{2}}} \\right)}\\end{matrix}\\right]$"
      ],
      "text/plain": [
       "Matrix([\n",
       "[(-c_x + u)*sin(sqrt((c_y - v)**2/f_y**2 + (c_x - u)**2/f_x**2))/(f_x*sqrt((c_y - v)**2/f_y**2 + (c_x - u)**2/f_x**2))],\n",
       "[(-c_y + v)*sin(sqrt((c_y - v)**2/f_y**2 + (c_x - u)**2/f_x**2))/(f_y*sqrt((c_y - v)**2/f_y**2 + (c_x - u)**2/f_x**2))],\n",
       "[                                                                 cos(sqrt((c_y - v)**2/f_y**2 + (c_x - u)**2/f_x**2))]])"
      ]
     },
     "execution_count": 3,
     "metadata": {},
     "output_type": "execute_result"
    }
   ],
   "source": [
    "c_x, c_y, f_x, f_y = symbols(\"c_x, c_y, f_x, f_y\", positive=True, real=True)\n",
    "u, v = symbols(\"u, v\", real=True)\n",
    "\n",
    "r_pinhole = sp.Matrix([\n",
    "    (u - c_x) / f_x,\n",
    "    (v - c_y) / f_y,\n",
    "    1\n",
    "])\n",
    "\n",
    "fisheye_radius = r_pinhole[:2, :].norm()\n",
    "\n",
    "r = sp.Matrix([\n",
    "    (u - c_x) * sp.sin(fisheye_radius) / (f_x * fisheye_radius),\n",
    "    (v - c_y) * sp.sin(fisheye_radius) / (f_y * fisheye_radius),\n",
    "    sp.cos(fisheye_radius)\n",
    "])\n",
    "\n",
    "r"
   ]
  },
  {
   "cell_type": "code",
   "execution_count": 4,
   "metadata": {},
   "outputs": [],
   "source": [
    "mu_vec = sp.Matrix([mu_x, mu_y, mu_z])\n",
    "t = sp.Matrix([t_x, t_y, t_z])"
   ]
  },
  {
   "cell_type": "code",
   "execution_count": 5,
   "metadata": {},
   "outputs": [
    {
     "data": {
      "text/latex": [
       "$\\displaystyle \\left[\\begin{matrix}\\frac{r_{x}}{\\sqrt{r_{x}^{2} + r_{y}^{2} + r_{z}^{2}}}\\\\\\frac{r_{y}}{\\sqrt{r_{x}^{2} + r_{y}^{2} + r_{z}^{2}}}\\\\\\frac{r_{z}}{\\sqrt{r_{x}^{2} + r_{y}^{2} + r_{z}^{2}}}\\end{matrix}\\right]$"
      ],
      "text/plain": [
       "Matrix([\n",
       "[r_x/sqrt(r_x**2 + r_y**2 + r_z**2)],\n",
       "[r_y/sqrt(r_x**2 + r_y**2 + r_z**2)],\n",
       "[r_z/sqrt(r_x**2 + r_y**2 + r_z**2)]])"
      ]
     },
     "execution_count": 5,
     "metadata": {},
     "output_type": "execute_result"
    }
   ],
   "source": [
    "r_vec = sp.Matrix([r_x, r_y, r_z])\n",
    "mu = r_vec / r_vec.norm()\n",
    "mu"
   ]
  },
  {
   "cell_type": "code",
   "execution_count": 38,
   "metadata": {},
   "outputs": [
    {
     "data": {
      "text/latex": [
       "$\\displaystyle \\left[\\begin{matrix}- \\frac{f_{y} \\left(c_{x} - u\\right) \\sin{\\left(\\frac{\\sqrt{f_{x}^{2} \\left(c_{y} - v\\right)^{2} + f_{y}^{2} \\left(c_{x} - u\\right)^{2}}}{f_{x} f_{y}} \\right)}}{\\sqrt{c_{x}^{2} f_{y}^{2} - 2 c_{x} f_{y}^{2} u + c_{y}^{2} f_{x}^{2} - 2 c_{y} f_{x}^{2} v + f_{x}^{2} v^{2} + f_{y}^{2} u^{2}}}\\\\- \\frac{f_{x} \\left(c_{y} - v\\right) \\sin{\\left(\\frac{\\sqrt{f_{x}^{2} \\left(c_{y} - v\\right)^{2} + f_{y}^{2} \\left(c_{x} - u\\right)^{2}}}{f_{x} f_{y}} \\right)}}{\\sqrt{c_{x}^{2} f_{y}^{2} - 2 c_{x} f_{y}^{2} u + c_{y}^{2} f_{x}^{2} - 2 c_{y} f_{x}^{2} v + f_{x}^{2} v^{2} + f_{y}^{2} u^{2}}}\\\\\\cos{\\left(\\frac{\\sqrt{c_{x}^{2} f_{y}^{2} - 2 c_{x} f_{y}^{2} u + c_{y}^{2} f_{x}^{2} - 2 c_{y} f_{x}^{2} v + f_{x}^{2} v^{2} + f_{y}^{2} u^{2}}}{f_{x} f_{y}} \\right)}\\end{matrix}\\right]$"
      ],
      "text/plain": [
       "Matrix([\n",
       "[-f_y*(c_x - u)*sin(sqrt(f_x**2*(c_y - v)**2 + f_y**2*(c_x - u)**2)/(f_x*f_y))/sqrt(c_x**2*f_y**2 - 2*c_x*f_y**2*u + c_y**2*f_x**2 - 2*c_y*f_x**2*v + f_x**2*v**2 + f_y**2*u**2)],\n",
       "[-f_x*(c_y - v)*sin(sqrt(f_x**2*(c_y - v)**2 + f_y**2*(c_x - u)**2)/(f_x*f_y))/sqrt(c_x**2*f_y**2 - 2*c_x*f_y**2*u + c_y**2*f_x**2 - 2*c_y*f_x**2*v + f_x**2*v**2 + f_y**2*u**2)],\n",
       "[                                                               cos(sqrt(c_x**2*f_y**2 - 2*c_x*f_y**2*u + c_y**2*f_x**2 - 2*c_y*f_x**2*v + f_x**2*v**2 + f_y**2*u**2)/(f_x*f_y))]])"
      ]
     },
     "execution_count": 38,
     "metadata": {},
     "output_type": "execute_result"
    }
   ],
   "source": [
    "a = sp.simplify(mu.subs(r_x, r[0]).subs(r_y, r[1]).subs(r_z, r[2]))\n",
    "a\n",
    "# sp.simplify(a.norm().subs(sp.Abs, sp.Id))"
   ]
  },
  {
   "cell_type": "code",
   "execution_count": 6,
   "metadata": {},
   "outputs": [
    {
     "data": {
      "text/latex": [
       "$\\displaystyle \\left[\\begin{matrix}\\frac{t_{x}}{\\mu_{x} t_{x} + \\mu_{y} t_{y} + \\mu_{z} t_{z}}\\\\\\frac{t_{y}}{\\mu_{x} t_{x} + \\mu_{y} t_{y} + \\mu_{z} t_{z}}\\\\\\frac{t_{z}}{\\mu_{x} t_{x} + \\mu_{y} t_{y} + \\mu_{z} t_{z}}\\end{matrix}\\right]$"
      ],
      "text/plain": [
       "Matrix([\n",
       "[t_x/(mu_x*t_x + mu_y*t_y + mu_z*t_z)],\n",
       "[t_y/(mu_x*t_x + mu_y*t_y + mu_z*t_z)],\n",
       "[t_z/(mu_x*t_x + mu_y*t_y + mu_z*t_z)]])"
      ]
     },
     "execution_count": 6,
     "metadata": {},
     "output_type": "execute_result"
    }
   ],
   "source": [
    "x_2d = t / t.dot(mu_vec)\n",
    "x_2d"
   ]
  },
  {
   "cell_type": "code",
   "execution_count": 7,
   "metadata": {},
   "outputs": [
    {
     "data": {
      "text/latex": [
       "$\\displaystyle \\left[\\begin{matrix}\\frac{\\mu_{z}}{\\sqrt{\\mu_{x}^{2} + \\mu_{z}^{2}}} & 0 & - \\frac{\\mu_{x}}{\\sqrt{\\mu_{x}^{2} + \\mu_{z}^{2}}}\\\\- \\frac{\\mu_{x} \\mu_{y}}{\\sqrt{\\mu_{x}^{2} + \\mu_{z}^{2}} \\sqrt{\\frac{r_{x}^{2}}{r_{x}^{2} + r_{y}^{2} + r_{z}^{2}} + \\frac{r_{y}^{2}}{r_{x}^{2} + r_{y}^{2} + r_{z}^{2}} + \\frac{r_{z}^{2}}{r_{x}^{2} + r_{y}^{2} + r_{z}^{2}}}} & \\frac{\\sqrt{\\mu_{x}^{2} + \\mu_{z}^{2}}}{\\sqrt{\\frac{r_{x}^{2}}{r_{x}^{2} + r_{y}^{2} + r_{z}^{2}} + \\frac{r_{y}^{2}}{r_{x}^{2} + r_{y}^{2} + r_{z}^{2}} + \\frac{r_{z}^{2}}{r_{x}^{2} + r_{y}^{2} + r_{z}^{2}}}} & - \\frac{\\mu_{y} \\mu_{z}}{\\sqrt{\\mu_{x}^{2} + \\mu_{z}^{2}} \\sqrt{\\frac{r_{x}^{2}}{r_{x}^{2} + r_{y}^{2} + r_{z}^{2}} + \\frac{r_{y}^{2}}{r_{x}^{2} + r_{y}^{2} + r_{z}^{2}} + \\frac{r_{z}^{2}}{r_{x}^{2} + r_{y}^{2} + r_{z}^{2}}}}\\\\\\frac{\\mu_{x}}{\\sqrt{\\frac{r_{x}^{2}}{r_{x}^{2} + r_{y}^{2} + r_{z}^{2}} + \\frac{r_{y}^{2}}{r_{x}^{2} + r_{y}^{2} + r_{z}^{2}} + \\frac{r_{z}^{2}}{r_{x}^{2} + r_{y}^{2} + r_{z}^{2}}}} & \\frac{\\mu_{y}}{\\sqrt{\\frac{r_{x}^{2}}{r_{x}^{2} + r_{y}^{2} + r_{z}^{2}} + \\frac{r_{y}^{2}}{r_{x}^{2} + r_{y}^{2} + r_{z}^{2}} + \\frac{r_{z}^{2}}{r_{x}^{2} + r_{y}^{2} + r_{z}^{2}}}} & \\frac{\\mu_{z}}{\\sqrt{\\frac{r_{x}^{2}}{r_{x}^{2} + r_{y}^{2} + r_{z}^{2}} + \\frac{r_{y}^{2}}{r_{x}^{2} + r_{y}^{2} + r_{z}^{2}} + \\frac{r_{z}^{2}}{r_{x}^{2} + r_{y}^{2} + r_{z}^{2}}}}\\end{matrix}\\right]$"
      ],
      "text/plain": [
       "Matrix([\n",
       "[                                                                                                                        mu_z/sqrt(mu_x**2 + mu_z**2),                                                                                                                                       0,                                                                                                                        -mu_x/sqrt(mu_x**2 + mu_z**2)],\n",
       "[-mu_x*mu_y/(sqrt(mu_x**2 + mu_z**2)*sqrt(r_x**2/(r_x**2 + r_y**2 + r_z**2) + r_y**2/(r_x**2 + r_y**2 + r_z**2) + r_z**2/(r_x**2 + r_y**2 + r_z**2))), sqrt(mu_x**2 + mu_z**2)/sqrt(r_x**2/(r_x**2 + r_y**2 + r_z**2) + r_y**2/(r_x**2 + r_y**2 + r_z**2) + r_z**2/(r_x**2 + r_y**2 + r_z**2)), -mu_y*mu_z/(sqrt(mu_x**2 + mu_z**2)*sqrt(r_x**2/(r_x**2 + r_y**2 + r_z**2) + r_y**2/(r_x**2 + r_y**2 + r_z**2) + r_z**2/(r_x**2 + r_y**2 + r_z**2)))],\n",
       "[                                mu_x/sqrt(r_x**2/(r_x**2 + r_y**2 + r_z**2) + r_y**2/(r_x**2 + r_y**2 + r_z**2) + r_z**2/(r_x**2 + r_y**2 + r_z**2)),                    mu_y/sqrt(r_x**2/(r_x**2 + r_y**2 + r_z**2) + r_y**2/(r_x**2 + r_y**2 + r_z**2) + r_z**2/(r_x**2 + r_y**2 + r_z**2)),                                 mu_z/sqrt(r_x**2/(r_x**2 + r_y**2 + r_z**2) + r_y**2/(r_x**2 + r_y**2 + r_z**2) + r_z**2/(r_x**2 + r_y**2 + r_z**2))]])"
      ]
     },
     "execution_count": 7,
     "metadata": {},
     "output_type": "execute_result"
    }
   ],
   "source": [
    "mu_xz_vec = sp.Matrix([mu_x, mu_z])\n",
    "mu_xz_norm = mu_xz_vec.norm()\n",
    "mu_norm = mu.norm()\n",
    "\n",
    "Q = sp.Matrix([\n",
    "    [mu_z / mu_xz_norm, 0, -mu_x / mu_xz_norm],\n",
    "    [-(mu_x * mu_y)/(mu_xz_norm * mu_norm), mu_xz_norm / mu_norm, -(mu_y * mu_z)/(mu_xz_norm * mu_norm)],\n",
    "    [mu_x / mu_norm, mu_y / mu_norm, mu_z / mu_norm]\n",
    "])\n",
    "Q"
   ]
  },
  {
   "cell_type": "code",
   "execution_count": 8,
   "metadata": {},
   "outputs": [
    {
     "data": {
      "text/latex": [
       "$\\displaystyle \\left[\\begin{matrix}\\frac{- \\mu_{x} t_{z} + \\mu_{z} t_{x}}{\\sqrt{\\mu_{x}^{2} + \\mu_{z}^{2}} \\left(\\mu_{x} t_{x} + \\mu_{y} t_{y} + \\mu_{z} t_{z}\\right)}\\\\\\frac{- \\mu_{y} \\left(\\mu_{x} t_{x} + \\mu_{z} t_{z}\\right) + t_{y} \\left(\\mu_{x}^{2} + \\mu_{z}^{2}\\right)}{\\sqrt{\\mu_{x}^{2} + \\mu_{z}^{2}} \\left(\\mu_{x} t_{x} + \\mu_{y} t_{y} + \\mu_{z} t_{z}\\right)}\\\\1\\end{matrix}\\right]$"
      ],
      "text/plain": [
       "Matrix([\n",
       "[                                 (-mu_x*t_z + mu_z*t_x)/(sqrt(mu_x**2 + mu_z**2)*(mu_x*t_x + mu_y*t_y + mu_z*t_z))],\n",
       "[(-mu_y*(mu_x*t_x + mu_z*t_z) + t_y*(mu_x**2 + mu_z**2))/(sqrt(mu_x**2 + mu_z**2)*(mu_x*t_x + mu_y*t_y + mu_z*t_z))],\n",
       "[                                                                                                                 1]])"
      ]
     },
     "execution_count": 8,
     "metadata": {},
     "output_type": "execute_result"
    }
   ],
   "source": [
    "d = Q @ x_2d\n",
    "d.simplify()\n",
    "d"
   ]
  },
  {
   "cell_type": "markdown",
   "metadata": {},
   "source": [
    "$\\displaystyle \\left[\\begin{matrix}\\frac{- \\mu_{x} t_{z} + \\mu_{z} t_{x}}{\\sqrt{\\mu_{x}^{2} + \\mu_{z}^{2}} \\left(\\mu_{x} t_{x} + \\mu_{y} t_{y} + \\mu_{z} t_{z}\\right)}\\\\\\frac{- \\mu_{y} \\left(\\mu_{x} t_{x} + \\mu_{z} t_{z}\\right) + t_{y} \\left(\\mu_{x}^{2} + \\mu_{z}^{2}\\right)}{\\sqrt{\\mu_{x}^{2} + \\mu_{z}^{2}} \\left(\\mu_{x} t_{x} + \\mu_{y} t_{y} + \\mu_{z} t_{z}\\right)}\\\\1\\end{matrix}\\right]$"
   ]
  },
  {
   "cell_type": "code",
   "execution_count": 9,
   "metadata": {},
   "outputs": [
    {
     "data": {
      "text/latex": [
       "$\\displaystyle \\left[\\begin{matrix}\\frac{\\left(- r_{x} t_{z} + r_{z} t_{x}\\right) \\sqrt{r_{x}^{2} + r_{y}^{2} + r_{z}^{2}}}{\\sqrt{r_{x}^{2} + r_{z}^{2}} \\left(r_{x} t_{x} + r_{y} t_{y} + r_{z} t_{z}\\right)}\\\\\\frac{- r_{y} \\left(r_{x} t_{x} + r_{z} t_{z}\\right) + t_{y} \\left(r_{x}^{2} + r_{z}^{2}\\right)}{\\sqrt{r_{x}^{2} + r_{z}^{2}} \\left(r_{x} t_{x} + r_{y} t_{y} + r_{z} t_{z}\\right)}\\\\1\\end{matrix}\\right]$"
      ],
      "text/plain": [
       "Matrix([\n",
       "[(-r_x*t_z + r_z*t_x)*sqrt(r_x**2 + r_y**2 + r_z**2)/(sqrt(r_x**2 + r_z**2)*(r_x*t_x + r_y*t_y + r_z*t_z))],\n",
       "[ (-r_y*(r_x*t_x + r_z*t_z) + t_y*(r_x**2 + r_z**2))/(sqrt(r_x**2 + r_z**2)*(r_x*t_x + r_y*t_y + r_z*t_z))],\n",
       "[                                                                                                        1]])"
      ]
     },
     "execution_count": 9,
     "metadata": {},
     "output_type": "execute_result"
    }
   ],
   "source": [
    "d_simple = sp.simplify(d.subs(mu_x, mu[0]).subs(mu_y, mu[1]).subs(mu_z, mu[2]))\n",
    "# d_simple_2 = sp.simplify(d_simple.subs(r_x, r[0]).subs(r_y, r[1]).subs(r_z, r[2]))\n",
    "d_simple"
   ]
  },
  {
   "cell_type": "code",
   "execution_count": 10,
   "metadata": {},
   "outputs": [],
   "source": [
    "def jacobian(a: sp.Matrix, b: sp.Matrix):\n",
    "    rows, cols = a.shape[0], b.shape[0]\n",
    "    J = sp.zeros(rows, cols)\n",
    "    for r in range(rows):\n",
    "        for c in range(cols):\n",
    "            J[r, c] = sp.diff(a[r], b[c]).simplify()\n",
    "\n",
    "    return J"
   ]
  },
  {
   "cell_type": "code",
   "execution_count": 11,
   "metadata": {},
   "outputs": [
    {
     "data": {
      "text/latex": [
       "$\\displaystyle \\left[\\begin{matrix}\\frac{\\mu_{x} \\left(\\mu_{x} t_{z} - \\mu_{z} t_{x}\\right) \\left(\\mu_{x} t_{x} + \\mu_{y} t_{y} + \\mu_{z} t_{z}\\right) + t_{x} \\left(\\mu_{x}^{2} + \\mu_{z}^{2}\\right) \\left(\\mu_{x} t_{z} - \\mu_{z} t_{x}\\right) - t_{z} \\left(\\mu_{x}^{2} + \\mu_{z}^{2}\\right) \\left(\\mu_{x} t_{x} + \\mu_{y} t_{y} + \\mu_{z} t_{z}\\right)}{\\left(\\mu_{x}^{2} + \\mu_{z}^{2}\\right)^{\\frac{3}{2}} \\left(\\mu_{x} t_{x} + \\mu_{y} t_{y} + \\mu_{z} t_{z}\\right)^{2}} & \\frac{t_{y} \\left(\\mu_{x} t_{z} - \\mu_{z} t_{x}\\right)}{\\sqrt{\\mu_{x}^{2} + \\mu_{z}^{2}} \\left(\\mu_{x} t_{x} + \\mu_{y} t_{y} + \\mu_{z} t_{z}\\right)^{2}} & \\frac{\\mu_{z} \\left(\\mu_{x} t_{z} - \\mu_{z} t_{x}\\right) \\left(\\mu_{x} t_{x} + \\mu_{y} t_{y} + \\mu_{z} t_{z}\\right) + t_{x} \\left(\\mu_{x}^{2} + \\mu_{z}^{2}\\right) \\left(\\mu_{x} t_{x} + \\mu_{y} t_{y} + \\mu_{z} t_{z}\\right) + t_{z} \\left(\\mu_{x}^{2} + \\mu_{z}^{2}\\right) \\left(\\mu_{x} t_{z} - \\mu_{z} t_{x}\\right)}{\\left(\\mu_{x}^{2} + \\mu_{z}^{2}\\right)^{\\frac{3}{2}} \\left(\\mu_{x} t_{x} + \\mu_{y} t_{y} + \\mu_{z} t_{z}\\right)^{2}}\\\\\\frac{\\mu_{x} \\left(\\mu_{y} \\left(\\mu_{x} t_{x} + \\mu_{z} t_{z}\\right) - t_{y} \\left(\\mu_{x}^{2} + \\mu_{z}^{2}\\right)\\right) \\left(\\mu_{x} t_{x} + \\mu_{y} t_{y} + \\mu_{z} t_{z}\\right) + t_{x} \\left(\\mu_{x}^{2} + \\mu_{z}^{2}\\right) \\left(\\mu_{y} \\left(\\mu_{x} t_{x} + \\mu_{z} t_{z}\\right) - t_{y} \\left(\\mu_{x}^{2} + \\mu_{z}^{2}\\right)\\right) + \\left(\\mu_{x}^{2} + \\mu_{z}^{2}\\right) \\left(2 \\mu_{x} t_{y} - \\mu_{y} t_{x}\\right) \\left(\\mu_{x} t_{x} + \\mu_{y} t_{y} + \\mu_{z} t_{z}\\right)}{\\left(\\mu_{x}^{2} + \\mu_{z}^{2}\\right)^{\\frac{3}{2}} \\left(\\mu_{x} t_{x} + \\mu_{y} t_{y} + \\mu_{z} t_{z}\\right)^{2}} & \\frac{t_{y} \\left(\\mu_{y} \\left(\\mu_{x} t_{x} + \\mu_{z} t_{z}\\right) - t_{y} \\left(\\mu_{x}^{2} + \\mu_{z}^{2}\\right)\\right) - \\left(\\mu_{x} t_{x} + \\mu_{z} t_{z}\\right) \\left(\\mu_{x} t_{x} + \\mu_{y} t_{y} + \\mu_{z} t_{z}\\right)}{\\sqrt{\\mu_{x}^{2} + \\mu_{z}^{2}} \\left(\\mu_{x} t_{x} + \\mu_{y} t_{y} + \\mu_{z} t_{z}\\right)^{2}} & \\frac{\\mu_{z} \\left(\\mu_{y} \\left(\\mu_{x} t_{x} + \\mu_{z} t_{z}\\right) - t_{y} \\left(\\mu_{x}^{2} + \\mu_{z}^{2}\\right)\\right) \\left(\\mu_{x} t_{x} + \\mu_{y} t_{y} + \\mu_{z} t_{z}\\right) + t_{z} \\left(\\mu_{x}^{2} + \\mu_{z}^{2}\\right) \\left(\\mu_{y} \\left(\\mu_{x} t_{x} + \\mu_{z} t_{z}\\right) - t_{y} \\left(\\mu_{x}^{2} + \\mu_{z}^{2}\\right)\\right) + \\left(\\mu_{x}^{2} + \\mu_{z}^{2}\\right) \\left(- \\mu_{y} t_{z} + 2 \\mu_{z} t_{y}\\right) \\left(\\mu_{x} t_{x} + \\mu_{y} t_{y} + \\mu_{z} t_{z}\\right)}{\\left(\\mu_{x}^{2} + \\mu_{z}^{2}\\right)^{\\frac{3}{2}} \\left(\\mu_{x} t_{x} + \\mu_{y} t_{y} + \\mu_{z} t_{z}\\right)^{2}}\\end{matrix}\\right]$"
      ],
      "text/plain": [
       "Matrix([\n",
       "[                                                                                      (mu_x*(mu_x*t_z - mu_z*t_x)*(mu_x*t_x + mu_y*t_y + mu_z*t_z) + t_x*(mu_x**2 + mu_z**2)*(mu_x*t_z - mu_z*t_x) - t_z*(mu_x**2 + mu_z**2)*(mu_x*t_x + mu_y*t_y + mu_z*t_z))/((mu_x**2 + mu_z**2)**(3/2)*(mu_x*t_x + mu_y*t_y + mu_z*t_z)**2),                                                                                             t_y*(mu_x*t_z - mu_z*t_x)/(sqrt(mu_x**2 + mu_z**2)*(mu_x*t_x + mu_y*t_y + mu_z*t_z)**2),                                                                                        (mu_z*(mu_x*t_z - mu_z*t_x)*(mu_x*t_x + mu_y*t_y + mu_z*t_z) + t_x*(mu_x**2 + mu_z**2)*(mu_x*t_x + mu_y*t_y + mu_z*t_z) + t_z*(mu_x**2 + mu_z**2)*(mu_x*t_z - mu_z*t_x))/((mu_x**2 + mu_z**2)**(3/2)*(mu_x*t_x + mu_y*t_y + mu_z*t_z)**2)],\n",
       "[(mu_x*(mu_y*(mu_x*t_x + mu_z*t_z) - t_y*(mu_x**2 + mu_z**2))*(mu_x*t_x + mu_y*t_y + mu_z*t_z) + t_x*(mu_x**2 + mu_z**2)*(mu_y*(mu_x*t_x + mu_z*t_z) - t_y*(mu_x**2 + mu_z**2)) + (mu_x**2 + mu_z**2)*(2*mu_x*t_y - mu_y*t_x)*(mu_x*t_x + mu_y*t_y + mu_z*t_z))/((mu_x**2 + mu_z**2)**(3/2)*(mu_x*t_x + mu_y*t_y + mu_z*t_z)**2), (t_y*(mu_y*(mu_x*t_x + mu_z*t_z) - t_y*(mu_x**2 + mu_z**2)) - (mu_x*t_x + mu_z*t_z)*(mu_x*t_x + mu_y*t_y + mu_z*t_z))/(sqrt(mu_x**2 + mu_z**2)*(mu_x*t_x + mu_y*t_y + mu_z*t_z)**2), (mu_z*(mu_y*(mu_x*t_x + mu_z*t_z) - t_y*(mu_x**2 + mu_z**2))*(mu_x*t_x + mu_y*t_y + mu_z*t_z) + t_z*(mu_x**2 + mu_z**2)*(mu_y*(mu_x*t_x + mu_z*t_z) - t_y*(mu_x**2 + mu_z**2)) + (mu_x**2 + mu_z**2)*(-mu_y*t_z + 2*mu_z*t_y)*(mu_x*t_x + mu_y*t_y + mu_z*t_z))/((mu_x**2 + mu_z**2)**(3/2)*(mu_x*t_x + mu_y*t_y + mu_z*t_z)**2)]])"
      ]
     },
     "execution_count": 11,
     "metadata": {},
     "output_type": "execute_result"
    }
   ],
   "source": [
    "deld_delmu = jacobian(d[0:2, :], mu_vec)\n",
    "deld_delmu"
   ]
  },
  {
   "cell_type": "code",
   "execution_count": 12,
   "metadata": {},
   "outputs": [
    {
     "data": {
      "text/latex": [
       "$\\displaystyle \\left[\\begin{matrix}\\frac{r_{y}^{2} + r_{z}^{2}}{\\left(r_{x}^{2} + r_{y}^{2} + r_{z}^{2}\\right)^{\\frac{3}{2}}} & - \\frac{r_{x} r_{y}}{\\left(r_{x}^{2} + r_{y}^{2} + r_{z}^{2}\\right)^{\\frac{3}{2}}} & - \\frac{r_{x} r_{z}}{\\left(r_{x}^{2} + r_{y}^{2} + r_{z}^{2}\\right)^{\\frac{3}{2}}}\\\\- \\frac{r_{x} r_{y}}{\\left(r_{x}^{2} + r_{y}^{2} + r_{z}^{2}\\right)^{\\frac{3}{2}}} & \\frac{r_{x}^{2} + r_{z}^{2}}{\\left(r_{x}^{2} + r_{y}^{2} + r_{z}^{2}\\right)^{\\frac{3}{2}}} & - \\frac{r_{y} r_{z}}{\\left(r_{x}^{2} + r_{y}^{2} + r_{z}^{2}\\right)^{\\frac{3}{2}}}\\\\- \\frac{r_{x} r_{z}}{\\left(r_{x}^{2} + r_{y}^{2} + r_{z}^{2}\\right)^{\\frac{3}{2}}} & - \\frac{r_{y} r_{z}}{\\left(r_{x}^{2} + r_{y}^{2} + r_{z}^{2}\\right)^{\\frac{3}{2}}} & \\frac{r_{x}^{2} + r_{y}^{2}}{\\left(r_{x}^{2} + r_{y}^{2} + r_{z}^{2}\\right)^{\\frac{3}{2}}}\\end{matrix}\\right]$"
      ],
      "text/plain": [
       "Matrix([\n",
       "[(r_y**2 + r_z**2)/(r_x**2 + r_y**2 + r_z**2)**(3/2),          -r_x*r_y/(r_x**2 + r_y**2 + r_z**2)**(3/2),          -r_x*r_z/(r_x**2 + r_y**2 + r_z**2)**(3/2)],\n",
       "[         -r_x*r_y/(r_x**2 + r_y**2 + r_z**2)**(3/2), (r_x**2 + r_z**2)/(r_x**2 + r_y**2 + r_z**2)**(3/2),          -r_y*r_z/(r_x**2 + r_y**2 + r_z**2)**(3/2)],\n",
       "[         -r_x*r_z/(r_x**2 + r_y**2 + r_z**2)**(3/2),          -r_y*r_z/(r_x**2 + r_y**2 + r_z**2)**(3/2), (r_x**2 + r_y**2)/(r_x**2 + r_y**2 + r_z**2)**(3/2)]])"
      ]
     },
     "execution_count": 12,
     "metadata": {},
     "output_type": "execute_result"
    }
   ],
   "source": [
    "delmu_delr = jacobian(mu, r_vec)\n",
    "delmu_delr"
   ]
  },
  {
   "cell_type": "code",
   "execution_count": 13,
   "metadata": {},
   "outputs": [
    {
     "data": {
      "text/latex": [
       "$\\displaystyle \\left[\\begin{matrix}\\frac{- r_{x} r_{y} t_{y} \\left(\\mu_{x}^{2} + \\mu_{z}^{2}\\right) \\left(\\mu_{x} t_{z} - \\mu_{z} t_{x}\\right) - r_{x} r_{z} \\left(\\mu_{z} \\left(\\mu_{x} t_{z} - \\mu_{z} t_{x}\\right) \\left(\\mu_{x} t_{x} + \\mu_{y} t_{y} + \\mu_{z} t_{z}\\right) + t_{x} \\left(\\mu_{x}^{2} + \\mu_{z}^{2}\\right) \\left(\\mu_{x} t_{x} + \\mu_{y} t_{y} + \\mu_{z} t_{z}\\right) + t_{z} \\left(\\mu_{x}^{2} + \\mu_{z}^{2}\\right) \\left(\\mu_{x} t_{z} - \\mu_{z} t_{x}\\right)\\right) + \\left(r_{y}^{2} + r_{z}^{2}\\right) \\left(\\mu_{x} \\left(\\mu_{x} t_{z} - \\mu_{z} t_{x}\\right) \\left(\\mu_{x} t_{x} + \\mu_{y} t_{y} + \\mu_{z} t_{z}\\right) + t_{x} \\left(\\mu_{x}^{2} + \\mu_{z}^{2}\\right) \\left(\\mu_{x} t_{z} - \\mu_{z} t_{x}\\right) - t_{z} \\left(\\mu_{x}^{2} + \\mu_{z}^{2}\\right) \\left(\\mu_{x} t_{x} + \\mu_{y} t_{y} + \\mu_{z} t_{z}\\right)\\right)}{\\left(\\mu_{x}^{2} + \\mu_{z}^{2}\\right)^{\\frac{3}{2}} \\left(r_{x}^{2} + r_{y}^{2} + r_{z}^{2}\\right)^{\\frac{3}{2}} \\left(\\mu_{x} t_{x} + \\mu_{y} t_{y} + \\mu_{z} t_{z}\\right)^{2}} & \\frac{- r_{y} \\left(r_{x} \\left(\\mu_{x} \\left(\\mu_{x} t_{z} - \\mu_{z} t_{x}\\right) \\left(\\mu_{x} t_{x} + \\mu_{y} t_{y} + \\mu_{z} t_{z}\\right) + t_{x} \\left(\\mu_{x}^{2} + \\mu_{z}^{2}\\right) \\left(\\mu_{x} t_{z} - \\mu_{z} t_{x}\\right) - t_{z} \\left(\\mu_{x}^{2} + \\mu_{z}^{2}\\right) \\left(\\mu_{x} t_{x} + \\mu_{y} t_{y} + \\mu_{z} t_{z}\\right)\\right) + r_{z} \\left(\\mu_{z} \\left(\\mu_{x} t_{z} - \\mu_{z} t_{x}\\right) \\left(\\mu_{x} t_{x} + \\mu_{y} t_{y} + \\mu_{z} t_{z}\\right) + t_{x} \\left(\\mu_{x}^{2} + \\mu_{z}^{2}\\right) \\left(\\mu_{x} t_{x} + \\mu_{y} t_{y} + \\mu_{z} t_{z}\\right) + t_{z} \\left(\\mu_{x}^{2} + \\mu_{z}^{2}\\right) \\left(\\mu_{x} t_{z} - \\mu_{z} t_{x}\\right)\\right)\\right) + t_{y} \\left(\\mu_{x}^{2} + \\mu_{z}^{2}\\right) \\left(r_{x}^{2} + r_{z}^{2}\\right) \\left(\\mu_{x} t_{z} - \\mu_{z} t_{x}\\right)}{\\left(\\mu_{x}^{2} + \\mu_{z}^{2}\\right)^{\\frac{3}{2}} \\left(r_{x}^{2} + r_{y}^{2} + r_{z}^{2}\\right)^{\\frac{3}{2}} \\left(\\mu_{x} t_{x} + \\mu_{y} t_{y} + \\mu_{z} t_{z}\\right)^{2}} & \\frac{- r_{x} r_{z} \\left(\\mu_{x} \\left(\\mu_{x} t_{z} - \\mu_{z} t_{x}\\right) \\left(\\mu_{x} t_{x} + \\mu_{y} t_{y} + \\mu_{z} t_{z}\\right) + t_{x} \\left(\\mu_{x}^{2} + \\mu_{z}^{2}\\right) \\left(\\mu_{x} t_{z} - \\mu_{z} t_{x}\\right) - t_{z} \\left(\\mu_{x}^{2} + \\mu_{z}^{2}\\right) \\left(\\mu_{x} t_{x} + \\mu_{y} t_{y} + \\mu_{z} t_{z}\\right)\\right) - r_{y} r_{z} t_{y} \\left(\\mu_{x}^{2} + \\mu_{z}^{2}\\right) \\left(\\mu_{x} t_{z} - \\mu_{z} t_{x}\\right) + \\left(r_{x}^{2} + r_{y}^{2}\\right) \\left(\\mu_{z} \\left(\\mu_{x} t_{z} - \\mu_{z} t_{x}\\right) \\left(\\mu_{x} t_{x} + \\mu_{y} t_{y} + \\mu_{z} t_{z}\\right) + t_{x} \\left(\\mu_{x}^{2} + \\mu_{z}^{2}\\right) \\left(\\mu_{x} t_{x} + \\mu_{y} t_{y} + \\mu_{z} t_{z}\\right) + t_{z} \\left(\\mu_{x}^{2} + \\mu_{z}^{2}\\right) \\left(\\mu_{x} t_{z} - \\mu_{z} t_{x}\\right)\\right)}{\\left(\\mu_{x}^{2} + \\mu_{z}^{2}\\right)^{\\frac{3}{2}} \\left(r_{x}^{2} + r_{y}^{2} + r_{z}^{2}\\right)^{\\frac{3}{2}} \\left(\\mu_{x} t_{x} + \\mu_{y} t_{y} + \\mu_{z} t_{z}\\right)^{2}}\\\\\\frac{- r_{x} r_{y} \\left(\\mu_{x}^{2} + \\mu_{z}^{2}\\right) \\left(t_{y} \\left(\\mu_{y} \\left(\\mu_{x} t_{x} + \\mu_{z} t_{z}\\right) - t_{y} \\left(\\mu_{x}^{2} + \\mu_{z}^{2}\\right)\\right) - \\left(\\mu_{x} t_{x} + \\mu_{z} t_{z}\\right) \\left(\\mu_{x} t_{x} + \\mu_{y} t_{y} + \\mu_{z} t_{z}\\right)\\right) - r_{x} r_{z} \\left(\\mu_{z} \\left(\\mu_{y} \\left(\\mu_{x} t_{x} + \\mu_{z} t_{z}\\right) - t_{y} \\left(\\mu_{x}^{2} + \\mu_{z}^{2}\\right)\\right) \\left(\\mu_{x} t_{x} + \\mu_{y} t_{y} + \\mu_{z} t_{z}\\right) + t_{z} \\left(\\mu_{x}^{2} + \\mu_{z}^{2}\\right) \\left(\\mu_{y} \\left(\\mu_{x} t_{x} + \\mu_{z} t_{z}\\right) - t_{y} \\left(\\mu_{x}^{2} + \\mu_{z}^{2}\\right)\\right) - \\left(\\mu_{x}^{2} + \\mu_{z}^{2}\\right) \\left(\\mu_{y} t_{z} - 2 \\mu_{z} t_{y}\\right) \\left(\\mu_{x} t_{x} + \\mu_{y} t_{y} + \\mu_{z} t_{z}\\right)\\right) + \\left(r_{y}^{2} + r_{z}^{2}\\right) \\left(\\mu_{x} \\left(\\mu_{y} \\left(\\mu_{x} t_{x} + \\mu_{z} t_{z}\\right) - t_{y} \\left(\\mu_{x}^{2} + \\mu_{z}^{2}\\right)\\right) \\left(\\mu_{x} t_{x} + \\mu_{y} t_{y} + \\mu_{z} t_{z}\\right) + t_{x} \\left(\\mu_{x}^{2} + \\mu_{z}^{2}\\right) \\left(\\mu_{y} \\left(\\mu_{x} t_{x} + \\mu_{z} t_{z}\\right) - t_{y} \\left(\\mu_{x}^{2} + \\mu_{z}^{2}\\right)\\right) + \\left(\\mu_{x}^{2} + \\mu_{z}^{2}\\right) \\left(2 \\mu_{x} t_{y} - \\mu_{y} t_{x}\\right) \\left(\\mu_{x} t_{x} + \\mu_{y} t_{y} + \\mu_{z} t_{z}\\right)\\right)}{\\left(\\mu_{x}^{2} + \\mu_{z}^{2}\\right)^{\\frac{3}{2}} \\left(r_{x}^{2} + r_{y}^{2} + r_{z}^{2}\\right)^{\\frac{3}{2}} \\left(\\mu_{x} t_{x} + \\mu_{y} t_{y} + \\mu_{z} t_{z}\\right)^{2}} & \\frac{- r_{y} \\left(r_{x} \\left(\\mu_{x} \\left(\\mu_{y} \\left(\\mu_{x} t_{x} + \\mu_{z} t_{z}\\right) - t_{y} \\left(\\mu_{x}^{2} + \\mu_{z}^{2}\\right)\\right) \\left(\\mu_{x} t_{x} + \\mu_{y} t_{y} + \\mu_{z} t_{z}\\right) + t_{x} \\left(\\mu_{x}^{2} + \\mu_{z}^{2}\\right) \\left(\\mu_{y} \\left(\\mu_{x} t_{x} + \\mu_{z} t_{z}\\right) - t_{y} \\left(\\mu_{x}^{2} + \\mu_{z}^{2}\\right)\\right) + \\left(\\mu_{x}^{2} + \\mu_{z}^{2}\\right) \\left(2 \\mu_{x} t_{y} - \\mu_{y} t_{x}\\right) \\left(\\mu_{x} t_{x} + \\mu_{y} t_{y} + \\mu_{z} t_{z}\\right)\\right) + r_{z} \\left(\\mu_{z} \\left(\\mu_{y} \\left(\\mu_{x} t_{x} + \\mu_{z} t_{z}\\right) - t_{y} \\left(\\mu_{x}^{2} + \\mu_{z}^{2}\\right)\\right) \\left(\\mu_{x} t_{x} + \\mu_{y} t_{y} + \\mu_{z} t_{z}\\right) + t_{z} \\left(\\mu_{x}^{2} + \\mu_{z}^{2}\\right) \\left(\\mu_{y} \\left(\\mu_{x} t_{x} + \\mu_{z} t_{z}\\right) - t_{y} \\left(\\mu_{x}^{2} + \\mu_{z}^{2}\\right)\\right) - \\left(\\mu_{x}^{2} + \\mu_{z}^{2}\\right) \\left(\\mu_{y} t_{z} - 2 \\mu_{z} t_{y}\\right) \\left(\\mu_{x} t_{x} + \\mu_{y} t_{y} + \\mu_{z} t_{z}\\right)\\right)\\right) + \\left(\\mu_{x}^{2} + \\mu_{z}^{2}\\right) \\left(r_{x}^{2} + r_{z}^{2}\\right) \\left(t_{y} \\left(\\mu_{y} \\left(\\mu_{x} t_{x} + \\mu_{z} t_{z}\\right) - t_{y} \\left(\\mu_{x}^{2} + \\mu_{z}^{2}\\right)\\right) - \\left(\\mu_{x} t_{x} + \\mu_{z} t_{z}\\right) \\left(\\mu_{x} t_{x} + \\mu_{y} t_{y} + \\mu_{z} t_{z}\\right)\\right)}{\\left(\\mu_{x}^{2} + \\mu_{z}^{2}\\right)^{\\frac{3}{2}} \\left(r_{x}^{2} + r_{y}^{2} + r_{z}^{2}\\right)^{\\frac{3}{2}} \\left(\\mu_{x} t_{x} + \\mu_{y} t_{y} + \\mu_{z} t_{z}\\right)^{2}} & \\frac{- r_{x} r_{z} \\left(\\mu_{x} \\left(\\mu_{y} \\left(\\mu_{x} t_{x} + \\mu_{z} t_{z}\\right) - t_{y} \\left(\\mu_{x}^{2} + \\mu_{z}^{2}\\right)\\right) \\left(\\mu_{x} t_{x} + \\mu_{y} t_{y} + \\mu_{z} t_{z}\\right) + t_{x} \\left(\\mu_{x}^{2} + \\mu_{z}^{2}\\right) \\left(\\mu_{y} \\left(\\mu_{x} t_{x} + \\mu_{z} t_{z}\\right) - t_{y} \\left(\\mu_{x}^{2} + \\mu_{z}^{2}\\right)\\right) + \\left(\\mu_{x}^{2} + \\mu_{z}^{2}\\right) \\left(2 \\mu_{x} t_{y} - \\mu_{y} t_{x}\\right) \\left(\\mu_{x} t_{x} + \\mu_{y} t_{y} + \\mu_{z} t_{z}\\right)\\right) - r_{y} r_{z} \\left(\\mu_{x}^{2} + \\mu_{z}^{2}\\right) \\left(t_{y} \\left(\\mu_{y} \\left(\\mu_{x} t_{x} + \\mu_{z} t_{z}\\right) - t_{y} \\left(\\mu_{x}^{2} + \\mu_{z}^{2}\\right)\\right) - \\left(\\mu_{x} t_{x} + \\mu_{z} t_{z}\\right) \\left(\\mu_{x} t_{x} + \\mu_{y} t_{y} + \\mu_{z} t_{z}\\right)\\right) + \\left(r_{x}^{2} + r_{y}^{2}\\right) \\left(\\mu_{z} \\left(\\mu_{y} \\left(\\mu_{x} t_{x} + \\mu_{z} t_{z}\\right) - t_{y} \\left(\\mu_{x}^{2} + \\mu_{z}^{2}\\right)\\right) \\left(\\mu_{x} t_{x} + \\mu_{y} t_{y} + \\mu_{z} t_{z}\\right) + t_{z} \\left(\\mu_{x}^{2} + \\mu_{z}^{2}\\right) \\left(\\mu_{y} \\left(\\mu_{x} t_{x} + \\mu_{z} t_{z}\\right) - t_{y} \\left(\\mu_{x}^{2} + \\mu_{z}^{2}\\right)\\right) - \\left(\\mu_{x}^{2} + \\mu_{z}^{2}\\right) \\left(\\mu_{y} t_{z} - 2 \\mu_{z} t_{y}\\right) \\left(\\mu_{x} t_{x} + \\mu_{y} t_{y} + \\mu_{z} t_{z}\\right)\\right)}{\\left(\\mu_{x}^{2} + \\mu_{z}^{2}\\right)^{\\frac{3}{2}} \\left(r_{x}^{2} + r_{y}^{2} + r_{z}^{2}\\right)^{\\frac{3}{2}} \\left(\\mu_{x} t_{x} + \\mu_{y} t_{y} + \\mu_{z} t_{z}\\right)^{2}}\\end{matrix}\\right]$"
      ],
      "text/plain": [
       "Matrix([\n",
       "[                                                                                                                                                                                                                                                                        (-r_x*r_y*t_y*(mu_x**2 + mu_z**2)*(mu_x*t_z - mu_z*t_x) - r_x*r_z*(mu_z*(mu_x*t_z - mu_z*t_x)*(mu_x*t_x + mu_y*t_y + mu_z*t_z) + t_x*(mu_x**2 + mu_z**2)*(mu_x*t_x + mu_y*t_y + mu_z*t_z) + t_z*(mu_x**2 + mu_z**2)*(mu_x*t_z - mu_z*t_x)) + (r_y**2 + r_z**2)*(mu_x*(mu_x*t_z - mu_z*t_x)*(mu_x*t_x + mu_y*t_y + mu_z*t_z) + t_x*(mu_x**2 + mu_z**2)*(mu_x*t_z - mu_z*t_x) - t_z*(mu_x**2 + mu_z**2)*(mu_x*t_x + mu_y*t_y + mu_z*t_z)))/((mu_x**2 + mu_z**2)**(3/2)*(r_x**2 + r_y**2 + r_z**2)**(3/2)*(mu_x*t_x + mu_y*t_y + mu_z*t_z)**2),                                                                                                                                                                                                                                                                         (-r_y*(r_x*(mu_x*(mu_x*t_z - mu_z*t_x)*(mu_x*t_x + mu_y*t_y + mu_z*t_z) + t_x*(mu_x**2 + mu_z**2)*(mu_x*t_z - mu_z*t_x) - t_z*(mu_x**2 + mu_z**2)*(mu_x*t_x + mu_y*t_y + mu_z*t_z)) + r_z*(mu_z*(mu_x*t_z - mu_z*t_x)*(mu_x*t_x + mu_y*t_y + mu_z*t_z) + t_x*(mu_x**2 + mu_z**2)*(mu_x*t_x + mu_y*t_y + mu_z*t_z) + t_z*(mu_x**2 + mu_z**2)*(mu_x*t_z - mu_z*t_x))) + t_y*(mu_x**2 + mu_z**2)*(r_x**2 + r_z**2)*(mu_x*t_z - mu_z*t_x))/((mu_x**2 + mu_z**2)**(3/2)*(r_x**2 + r_y**2 + r_z**2)**(3/2)*(mu_x*t_x + mu_y*t_y + mu_z*t_z)**2),                                                                                                                                                                                                                                                                         (-r_x*r_z*(mu_x*(mu_x*t_z - mu_z*t_x)*(mu_x*t_x + mu_y*t_y + mu_z*t_z) + t_x*(mu_x**2 + mu_z**2)*(mu_x*t_z - mu_z*t_x) - t_z*(mu_x**2 + mu_z**2)*(mu_x*t_x + mu_y*t_y + mu_z*t_z)) - r_y*r_z*t_y*(mu_x**2 + mu_z**2)*(mu_x*t_z - mu_z*t_x) + (r_x**2 + r_y**2)*(mu_z*(mu_x*t_z - mu_z*t_x)*(mu_x*t_x + mu_y*t_y + mu_z*t_z) + t_x*(mu_x**2 + mu_z**2)*(mu_x*t_x + mu_y*t_y + mu_z*t_z) + t_z*(mu_x**2 + mu_z**2)*(mu_x*t_z - mu_z*t_x)))/((mu_x**2 + mu_z**2)**(3/2)*(r_x**2 + r_y**2 + r_z**2)**(3/2)*(mu_x*t_x + mu_y*t_y + mu_z*t_z)**2)],\n",
       "[(-r_x*r_y*(mu_x**2 + mu_z**2)*(t_y*(mu_y*(mu_x*t_x + mu_z*t_z) - t_y*(mu_x**2 + mu_z**2)) - (mu_x*t_x + mu_z*t_z)*(mu_x*t_x + mu_y*t_y + mu_z*t_z)) - r_x*r_z*(mu_z*(mu_y*(mu_x*t_x + mu_z*t_z) - t_y*(mu_x**2 + mu_z**2))*(mu_x*t_x + mu_y*t_y + mu_z*t_z) + t_z*(mu_x**2 + mu_z**2)*(mu_y*(mu_x*t_x + mu_z*t_z) - t_y*(mu_x**2 + mu_z**2)) - (mu_x**2 + mu_z**2)*(mu_y*t_z - 2*mu_z*t_y)*(mu_x*t_x + mu_y*t_y + mu_z*t_z)) + (r_y**2 + r_z**2)*(mu_x*(mu_y*(mu_x*t_x + mu_z*t_z) - t_y*(mu_x**2 + mu_z**2))*(mu_x*t_x + mu_y*t_y + mu_z*t_z) + t_x*(mu_x**2 + mu_z**2)*(mu_y*(mu_x*t_x + mu_z*t_z) - t_y*(mu_x**2 + mu_z**2)) + (mu_x**2 + mu_z**2)*(2*mu_x*t_y - mu_y*t_x)*(mu_x*t_x + mu_y*t_y + mu_z*t_z)))/((mu_x**2 + mu_z**2)**(3/2)*(r_x**2 + r_y**2 + r_z**2)**(3/2)*(mu_x*t_x + mu_y*t_y + mu_z*t_z)**2), (-r_y*(r_x*(mu_x*(mu_y*(mu_x*t_x + mu_z*t_z) - t_y*(mu_x**2 + mu_z**2))*(mu_x*t_x + mu_y*t_y + mu_z*t_z) + t_x*(mu_x**2 + mu_z**2)*(mu_y*(mu_x*t_x + mu_z*t_z) - t_y*(mu_x**2 + mu_z**2)) + (mu_x**2 + mu_z**2)*(2*mu_x*t_y - mu_y*t_x)*(mu_x*t_x + mu_y*t_y + mu_z*t_z)) + r_z*(mu_z*(mu_y*(mu_x*t_x + mu_z*t_z) - t_y*(mu_x**2 + mu_z**2))*(mu_x*t_x + mu_y*t_y + mu_z*t_z) + t_z*(mu_x**2 + mu_z**2)*(mu_y*(mu_x*t_x + mu_z*t_z) - t_y*(mu_x**2 + mu_z**2)) - (mu_x**2 + mu_z**2)*(mu_y*t_z - 2*mu_z*t_y)*(mu_x*t_x + mu_y*t_y + mu_z*t_z))) + (mu_x**2 + mu_z**2)*(r_x**2 + r_z**2)*(t_y*(mu_y*(mu_x*t_x + mu_z*t_z) - t_y*(mu_x**2 + mu_z**2)) - (mu_x*t_x + mu_z*t_z)*(mu_x*t_x + mu_y*t_y + mu_z*t_z)))/((mu_x**2 + mu_z**2)**(3/2)*(r_x**2 + r_y**2 + r_z**2)**(3/2)*(mu_x*t_x + mu_y*t_y + mu_z*t_z)**2), (-r_x*r_z*(mu_x*(mu_y*(mu_x*t_x + mu_z*t_z) - t_y*(mu_x**2 + mu_z**2))*(mu_x*t_x + mu_y*t_y + mu_z*t_z) + t_x*(mu_x**2 + mu_z**2)*(mu_y*(mu_x*t_x + mu_z*t_z) - t_y*(mu_x**2 + mu_z**2)) + (mu_x**2 + mu_z**2)*(2*mu_x*t_y - mu_y*t_x)*(mu_x*t_x + mu_y*t_y + mu_z*t_z)) - r_y*r_z*(mu_x**2 + mu_z**2)*(t_y*(mu_y*(mu_x*t_x + mu_z*t_z) - t_y*(mu_x**2 + mu_z**2)) - (mu_x*t_x + mu_z*t_z)*(mu_x*t_x + mu_y*t_y + mu_z*t_z)) + (r_x**2 + r_y**2)*(mu_z*(mu_y*(mu_x*t_x + mu_z*t_z) - t_y*(mu_x**2 + mu_z**2))*(mu_x*t_x + mu_y*t_y + mu_z*t_z) + t_z*(mu_x**2 + mu_z**2)*(mu_y*(mu_x*t_x + mu_z*t_z) - t_y*(mu_x**2 + mu_z**2)) - (mu_x**2 + mu_z**2)*(mu_y*t_z - 2*mu_z*t_y)*(mu_x*t_x + mu_y*t_y + mu_z*t_z)))/((mu_x**2 + mu_z**2)**(3/2)*(r_x**2 + r_y**2 + r_z**2)**(3/2)*(mu_x*t_x + mu_y*t_y + mu_z*t_z)**2)]])"
      ]
     },
     "execution_count": 13,
     "metadata": {},
     "output_type": "execute_result"
    }
   ],
   "source": [
    "deld_delr = deld_delmu @ delmu_delr\n",
    "deld_delr.simplify()\n",
    "deld_delr"
   ]
  },
  {
   "cell_type": "code",
   "execution_count": 17,
   "metadata": {},
   "outputs": [
    {
     "data": {
      "text/latex": [
       "$\\displaystyle \\left[\\begin{matrix}\\frac{- r_{x} r_{y} t_{y} \\left(r_{x}^{2} + r_{z}^{2}\\right) \\left(r_{x} t_{z} - r_{z} t_{x}\\right) - r_{x} r_{z} \\left(r_{z} \\left(r_{x} t_{z} - r_{z} t_{x}\\right) \\left(r_{x} t_{x} + r_{y} t_{y} + r_{z} t_{z}\\right) + t_{x} \\left(r_{x}^{2} + r_{z}^{2}\\right) \\left(r_{x} t_{x} + r_{y} t_{y} + r_{z} t_{z}\\right) + t_{z} \\left(r_{x}^{2} + r_{z}^{2}\\right) \\left(r_{x} t_{z} - r_{z} t_{x}\\right)\\right) + \\left(r_{y}^{2} + r_{z}^{2}\\right) \\left(r_{x} \\left(r_{x} t_{z} - r_{z} t_{x}\\right) \\left(r_{x} t_{x} + r_{y} t_{y} + r_{z} t_{z}\\right) + t_{x} \\left(r_{x}^{2} + r_{z}^{2}\\right) \\left(r_{x} t_{z} - r_{z} t_{x}\\right) - t_{z} \\left(r_{x}^{2} + r_{z}^{2}\\right) \\left(r_{x} t_{x} + r_{y} t_{y} + r_{z} t_{z}\\right)\\right)}{\\left(r_{x}^{2} + r_{z}^{2}\\right)^{\\frac{3}{2}} \\sqrt{r_{x}^{2} + r_{y}^{2} + r_{z}^{2}} \\left(r_{x} t_{x} + r_{y} t_{y} + r_{z} t_{z}\\right)^{2}} & \\frac{r_{x}^{3} t_{y} t_{z} - r_{x}^{2} r_{y} t_{x} t_{z} - r_{x}^{2} r_{z} t_{x} t_{y} + r_{x} r_{y} r_{z} t_{x}^{2} - r_{x} r_{y} r_{z} t_{z}^{2} + r_{x} r_{z}^{2} t_{y} t_{z} + r_{y} r_{z}^{2} t_{x} t_{z} - r_{z}^{3} t_{x} t_{y}}{\\sqrt{r_{x}^{2} + r_{z}^{2}} \\sqrt{r_{x}^{2} + r_{y}^{2} + r_{z}^{2}} \\left(r_{x}^{2} t_{x}^{2} + 2 r_{x} r_{y} t_{x} t_{y} + 2 r_{x} r_{z} t_{x} t_{z} + r_{y}^{2} t_{y}^{2} + 2 r_{y} r_{z} t_{y} t_{z} + r_{z}^{2} t_{z}^{2}\\right)} & \\frac{- r_{x} r_{z} \\left(r_{x} \\left(r_{x} t_{z} - r_{z} t_{x}\\right) \\left(r_{x} t_{x} + r_{y} t_{y} + r_{z} t_{z}\\right) + t_{x} \\left(r_{x}^{2} + r_{z}^{2}\\right) \\left(r_{x} t_{z} - r_{z} t_{x}\\right) - t_{z} \\left(r_{x}^{2} + r_{z}^{2}\\right) \\left(r_{x} t_{x} + r_{y} t_{y} + r_{z} t_{z}\\right)\\right) - r_{y} r_{z} t_{y} \\left(r_{x}^{2} + r_{z}^{2}\\right) \\left(r_{x} t_{z} - r_{z} t_{x}\\right) + \\left(r_{x}^{2} + r_{y}^{2}\\right) \\left(r_{z} \\left(r_{x} t_{z} - r_{z} t_{x}\\right) \\left(r_{x} t_{x} + r_{y} t_{y} + r_{z} t_{z}\\right) + t_{x} \\left(r_{x}^{2} + r_{z}^{2}\\right) \\left(r_{x} t_{x} + r_{y} t_{y} + r_{z} t_{z}\\right) + t_{z} \\left(r_{x}^{2} + r_{z}^{2}\\right) \\left(r_{x} t_{z} - r_{z} t_{x}\\right)\\right)}{\\left(r_{x}^{2} + r_{z}^{2}\\right)^{\\frac{3}{2}} \\sqrt{r_{x}^{2} + r_{y}^{2} + r_{z}^{2}} \\left(r_{x} t_{x} + r_{y} t_{y} + r_{z} t_{z}\\right)^{2}}\\\\\\frac{r_{x}^{3} r_{y} t_{x}^{2} + r_{x}^{3} r_{y} t_{y}^{2} + r_{x}^{3} r_{z} t_{y} t_{z} + 2 r_{x}^{2} r_{y} r_{z} t_{x} t_{z} - r_{x}^{2} r_{z}^{2} t_{x} t_{y} + r_{x} r_{y}^{2} r_{z} t_{y} t_{z} + r_{x} r_{y} r_{z}^{2} t_{y}^{2} + r_{x} r_{y} r_{z}^{2} t_{z}^{2} + r_{x} r_{z}^{3} t_{y} t_{z} - r_{y}^{2} r_{z}^{2} t_{x} t_{y} - r_{z}^{4} t_{x} t_{y}}{\\sqrt{r_{x}^{2} + r_{z}^{2}} \\left(r_{x}^{4} t_{x}^{2} + 2 r_{x}^{3} r_{y} t_{x} t_{y} + 2 r_{x}^{3} r_{z} t_{x} t_{z} + r_{x}^{2} r_{y}^{2} t_{y}^{2} + 2 r_{x}^{2} r_{y} r_{z} t_{y} t_{z} + r_{x}^{2} r_{z}^{2} t_{x}^{2} + r_{x}^{2} r_{z}^{2} t_{z}^{2} + 2 r_{x} r_{y} r_{z}^{2} t_{x} t_{y} + 2 r_{x} r_{z}^{3} t_{x} t_{z} + r_{y}^{2} r_{z}^{2} t_{y}^{2} + 2 r_{y} r_{z}^{3} t_{y} t_{z} + r_{z}^{4} t_{z}^{2}\\right)} & \\frac{- r_{x}^{2} t_{x}^{2} - r_{x}^{2} t_{y}^{2} - 2 r_{x} r_{z} t_{x} t_{z} - r_{z}^{2} t_{y}^{2} - r_{z}^{2} t_{z}^{2}}{\\sqrt{r_{x}^{2} + r_{z}^{2}} \\left(r_{x}^{2} t_{x}^{2} + 2 r_{x} r_{y} t_{x} t_{y} + 2 r_{x} r_{z} t_{x} t_{z} + r_{y}^{2} t_{y}^{2} + 2 r_{y} r_{z} t_{y} t_{z} + r_{z}^{2} t_{z}^{2}\\right)} & \\frac{- r_{x}^{4} t_{y} t_{z} + r_{x}^{3} r_{z} t_{x} t_{y} - r_{x}^{2} r_{y}^{2} t_{y} t_{z} + r_{x}^{2} r_{y} r_{z} t_{x}^{2} + r_{x}^{2} r_{y} r_{z} t_{y}^{2} - r_{x}^{2} r_{z}^{2} t_{y} t_{z} + r_{x} r_{y}^{2} r_{z} t_{x} t_{y} + 2 r_{x} r_{y} r_{z}^{2} t_{x} t_{z} + r_{x} r_{z}^{3} t_{x} t_{y} + r_{y} r_{z}^{3} t_{y}^{2} + r_{y} r_{z}^{3} t_{z}^{2}}{\\sqrt{r_{x}^{2} + r_{z}^{2}} \\left(r_{x}^{4} t_{x}^{2} + 2 r_{x}^{3} r_{y} t_{x} t_{y} + 2 r_{x}^{3} r_{z} t_{x} t_{z} + r_{x}^{2} r_{y}^{2} t_{y}^{2} + 2 r_{x}^{2} r_{y} r_{z} t_{y} t_{z} + r_{x}^{2} r_{z}^{2} t_{x}^{2} + r_{x}^{2} r_{z}^{2} t_{z}^{2} + 2 r_{x} r_{y} r_{z}^{2} t_{x} t_{y} + 2 r_{x} r_{z}^{3} t_{x} t_{z} + r_{y}^{2} r_{z}^{2} t_{y}^{2} + 2 r_{y} r_{z}^{3} t_{y} t_{z} + r_{z}^{4} t_{z}^{2}\\right)}\\end{matrix}\\right]$"
      ],
      "text/plain": [
       "Matrix([\n",
       "[                                                           (-r_x*r_y*t_y*(r_x**2 + r_z**2)*(r_x*t_z - r_z*t_x) - r_x*r_z*(r_z*(r_x*t_z - r_z*t_x)*(r_x*t_x + r_y*t_y + r_z*t_z) + t_x*(r_x**2 + r_z**2)*(r_x*t_x + r_y*t_y + r_z*t_z) + t_z*(r_x**2 + r_z**2)*(r_x*t_z - r_z*t_x)) + (r_y**2 + r_z**2)*(r_x*(r_x*t_z - r_z*t_x)*(r_x*t_x + r_y*t_y + r_z*t_z) + t_x*(r_x**2 + r_z**2)*(r_x*t_z - r_z*t_x) - t_z*(r_x**2 + r_z**2)*(r_x*t_x + r_y*t_y + r_z*t_z)))/((r_x**2 + r_z**2)**(3/2)*sqrt(r_x**2 + r_y**2 + r_z**2)*(r_x*t_x + r_y*t_y + r_z*t_z)**2), (r_x**3*t_y*t_z - r_x**2*r_y*t_x*t_z - r_x**2*r_z*t_x*t_y + r_x*r_y*r_z*t_x**2 - r_x*r_y*r_z*t_z**2 + r_x*r_z**2*t_y*t_z + r_y*r_z**2*t_x*t_z - r_z**3*t_x*t_y)/(sqrt(r_x**2 + r_z**2)*sqrt(r_x**2 + r_y**2 + r_z**2)*(r_x**2*t_x**2 + 2*r_x*r_y*t_x*t_y + 2*r_x*r_z*t_x*t_z + r_y**2*t_y**2 + 2*r_y*r_z*t_y*t_z + r_z**2*t_z**2)),                                                             (-r_x*r_z*(r_x*(r_x*t_z - r_z*t_x)*(r_x*t_x + r_y*t_y + r_z*t_z) + t_x*(r_x**2 + r_z**2)*(r_x*t_z - r_z*t_x) - t_z*(r_x**2 + r_z**2)*(r_x*t_x + r_y*t_y + r_z*t_z)) - r_y*r_z*t_y*(r_x**2 + r_z**2)*(r_x*t_z - r_z*t_x) + (r_x**2 + r_y**2)*(r_z*(r_x*t_z - r_z*t_x)*(r_x*t_x + r_y*t_y + r_z*t_z) + t_x*(r_x**2 + r_z**2)*(r_x*t_x + r_y*t_y + r_z*t_z) + t_z*(r_x**2 + r_z**2)*(r_x*t_z - r_z*t_x)))/((r_x**2 + r_z**2)**(3/2)*sqrt(r_x**2 + r_y**2 + r_z**2)*(r_x*t_x + r_y*t_y + r_z*t_z)**2)],\n",
       "[(r_x**3*r_y*t_x**2 + r_x**3*r_y*t_y**2 + r_x**3*r_z*t_y*t_z + 2*r_x**2*r_y*r_z*t_x*t_z - r_x**2*r_z**2*t_x*t_y + r_x*r_y**2*r_z*t_y*t_z + r_x*r_y*r_z**2*t_y**2 + r_x*r_y*r_z**2*t_z**2 + r_x*r_z**3*t_y*t_z - r_y**2*r_z**2*t_x*t_y - r_z**4*t_x*t_y)/(sqrt(r_x**2 + r_z**2)*(r_x**4*t_x**2 + 2*r_x**3*r_y*t_x*t_y + 2*r_x**3*r_z*t_x*t_z + r_x**2*r_y**2*t_y**2 + 2*r_x**2*r_y*r_z*t_y*t_z + r_x**2*r_z**2*t_x**2 + r_x**2*r_z**2*t_z**2 + 2*r_x*r_y*r_z**2*t_x*t_y + 2*r_x*r_z**3*t_x*t_z + r_y**2*r_z**2*t_y**2 + 2*r_y*r_z**3*t_y*t_z + r_z**4*t_z**2)),                                                                                                           (-r_x**2*t_x**2 - r_x**2*t_y**2 - 2*r_x*r_z*t_x*t_z - r_z**2*t_y**2 - r_z**2*t_z**2)/(sqrt(r_x**2 + r_z**2)*(r_x**2*t_x**2 + 2*r_x*r_y*t_x*t_y + 2*r_x*r_z*t_x*t_z + r_y**2*t_y**2 + 2*r_y*r_z*t_y*t_z + r_z**2*t_z**2)), (-r_x**4*t_y*t_z + r_x**3*r_z*t_x*t_y - r_x**2*r_y**2*t_y*t_z + r_x**2*r_y*r_z*t_x**2 + r_x**2*r_y*r_z*t_y**2 - r_x**2*r_z**2*t_y*t_z + r_x*r_y**2*r_z*t_x*t_y + 2*r_x*r_y*r_z**2*t_x*t_z + r_x*r_z**3*t_x*t_y + r_y*r_z**3*t_y**2 + r_y*r_z**3*t_z**2)/(sqrt(r_x**2 + r_z**2)*(r_x**4*t_x**2 + 2*r_x**3*r_y*t_x*t_y + 2*r_x**3*r_z*t_x*t_z + r_x**2*r_y**2*t_y**2 + 2*r_x**2*r_y*r_z*t_y*t_z + r_x**2*r_z**2*t_x**2 + r_x**2*r_z**2*t_z**2 + 2*r_x*r_y*r_z**2*t_x*t_y + 2*r_x*r_z**3*t_x*t_z + r_y**2*r_z**2*t_y**2 + 2*r_y*r_z**3*t_y*t_z + r_z**4*t_z**2))]])"
      ]
     },
     "execution_count": 17,
     "metadata": {},
     "output_type": "execute_result"
    }
   ],
   "source": [
    "deld_delr_simple = deld_delr.copy()\n",
    "deld_delr_simple = deld_delr_simple.subs(mu_x, mu[0]).subs(mu_y, mu[1]).subs(mu_z, mu[2])\n",
    "deld_delr_simple.simplify()\n",
    "deld_delr_simple"
   ]
  },
  {
   "cell_type": "code",
   "execution_count": 22,
   "metadata": {},
   "outputs": [
    {
     "data": {
      "text/latex": [
       "$\\displaystyle \\left[\\begin{matrix}- x_{19} \\left(r_{x} x_{7} + x_{14} x_{15} - x_{17} \\left(x_{16} + x_{4}\\right)\\right) & x_{18} x_{41} \\left(x_{20} x_{21} - x_{22} x_{23} + x_{24} x_{25} - x_{25} x_{29} + x_{26} x_{4} - x_{28} x_{3} + x_{28} x_{4} - x_{3} x_{30}\\right) & - x_{19} \\left(r_{z} x_{7} - x_{14} \\left(x_{16} + x_{3}\\right) + x_{15} x_{17}\\right)\\\\x_{51} \\left(r_{x} x_{10} x_{45} + t_{y} x_{43} + 2 x_{10} x_{27} x_{3} - x_{16} x_{48} + x_{22} x_{26} - x_{23} x_{42} + x_{24} x_{44} - x_{3} x_{48} + x_{32} x_{44} + x_{39} x_{47} + x_{46} x_{47}\\right) & - x_{41} \\left(x_{40} + x_{46} + x_{52}\\right) & x_{51} \\left(r_{y} t_{z} x_{34} x_{4} + r_{z} x_{45} x_{9} + t_{y} x_{50} - x_{16} x_{55} + x_{20} x_{30} - x_{21} x_{49} + x_{29} x_{53} + x_{32} x_{53} + x_{38} x_{54} - x_{4} x_{55} + x_{52} x_{54}\\right)\\end{matrix}\\right]$"
      ],
      "text/plain": [
       "Matrix([\n",
       "[                                                                                 -x19*(r_x*x7 + x14*x15 - x17*(x16 + x4)), x18*x41*(x20*x21 - x22*x23 + x24*x25 - x25*x29 + x26*x4 - x28*x3 + x28*x4 - x3*x30),                                                                                   -x19*(r_z*x7 - x14*(x16 + x3) + x15*x17)],\n",
       "[x51*(r_x*x10*x45 + t_y*x43 + 2*x10*x27*x3 - x16*x48 + x22*x26 - x23*x42 + x24*x44 - x3*x48 + x32*x44 + x39*x47 + x46*x47),                                                              -x41*(x40 + x46 + x52), x51*(r_y*t_z*x34*x4 + r_z*x45*x9 + t_y*x50 - x16*x55 + x20*x30 - x21*x49 + x29*x53 + x32*x53 + x38*x54 - x4*x55 + x52*x54)]])"
      ]
     },
     "execution_count": 22,
     "metadata": {},
     "output_type": "execute_result"
    }
   ],
   "source": [
    "sp.cse(deld_delr_simple, optimizations=\"basic\")[1][0]"
   ]
  },
  {
   "cell_type": "code",
   "execution_count": 14,
   "metadata": {},
   "outputs": [
    {
     "data": {
      "text/latex": [
       "$\\displaystyle \\left[\\begin{matrix}- \\frac{f_{y}^{3} \\left(c_{x} - u\\right)^{2} \\sin{\\left(\\frac{\\sqrt{f_{x}^{2} \\left(c_{y} - v\\right)^{2} + f_{y}^{2} \\left(c_{x} - u\\right)^{2}}}{f_{x} f_{y}} \\right)}}{\\left(f_{x}^{2} \\left(c_{y} - v\\right)^{2} + f_{y}^{2} \\left(c_{x} - u\\right)^{2}\\right)^{\\frac{3}{2}}} + \\frac{f_{y}^{2} \\left(c_{x} - u\\right)^{2} \\cos{\\left(\\frac{\\sqrt{f_{x}^{2} \\left(c_{y} - v\\right)^{2} + f_{y}^{2} \\left(c_{x} - u\\right)^{2}}}{f_{x} f_{y}} \\right)}}{f_{x}^{3} \\left(c_{y} - v\\right)^{2} + f_{x} f_{y}^{2} \\left(c_{x} - u\\right)^{2}} + \\frac{f_{y} \\sin{\\left(\\frac{\\sqrt{f_{x}^{2} \\left(c_{y} - v\\right)^{2} + f_{y}^{2} \\left(c_{x} - u\\right)^{2}}}{f_{x} f_{y}} \\right)}}{\\sqrt{f_{x}^{2} \\left(c_{y} - v\\right)^{2} + f_{y}^{2} \\left(c_{x} - u\\right)^{2}}} & \\frac{f_{x} \\left(c_{x} - u\\right) \\left(c_{y} - v\\right) \\left(- f_{x} f_{y} \\left(f_{x}^{2} \\left(c_{y} - v\\right)^{2} + f_{y}^{2} \\left(c_{x} - u\\right)^{2}\\right) \\sin{\\left(\\frac{\\sqrt{f_{x}^{2} \\left(c_{y} - v\\right)^{2} + f_{y}^{2} \\left(c_{x} - u\\right)^{2}}}{f_{x} f_{y}} \\right)} + \\left(f_{x}^{2} \\left(c_{y} - v\\right)^{2} + f_{y}^{2} \\left(c_{x} - u\\right)^{2}\\right)^{\\frac{3}{2}} \\cos{\\left(\\frac{\\sqrt{f_{x}^{2} \\left(c_{y} - v\\right)^{2} + f_{y}^{2} \\left(c_{x} - u\\right)^{2}}}{f_{x} f_{y}} \\right)}\\right)}{\\left(f_{x}^{2} \\left(c_{y} - v\\right)^{2} + f_{y}^{2} \\left(c_{x} - u\\right)^{2}\\right)^{\\frac{5}{2}}}\\\\\\frac{f_{y} \\left(c_{x} - u\\right) \\left(c_{y} - v\\right) \\left(- f_{x} f_{y} \\left(f_{x}^{2} \\left(c_{y} - v\\right)^{2} + f_{y}^{2} \\left(c_{x} - u\\right)^{2}\\right) \\sin{\\left(\\frac{\\sqrt{f_{x}^{2} \\left(c_{y} - v\\right)^{2} + f_{y}^{2} \\left(c_{x} - u\\right)^{2}}}{f_{x} f_{y}} \\right)} + \\left(f_{x}^{2} \\left(c_{y} - v\\right)^{2} + f_{y}^{2} \\left(c_{x} - u\\right)^{2}\\right)^{\\frac{3}{2}} \\cos{\\left(\\frac{\\sqrt{f_{x}^{2} \\left(c_{y} - v\\right)^{2} + f_{y}^{2} \\left(c_{x} - u\\right)^{2}}}{f_{x} f_{y}} \\right)}\\right)}{\\left(f_{x}^{2} \\left(c_{y} - v\\right)^{2} + f_{y}^{2} \\left(c_{x} - u\\right)^{2}\\right)^{\\frac{5}{2}}} & - \\frac{f_{x}^{3} \\left(c_{y} - v\\right)^{2} \\sin{\\left(\\frac{\\sqrt{f_{x}^{2} \\left(c_{y} - v\\right)^{2} + f_{y}^{2} \\left(c_{x} - u\\right)^{2}}}{f_{x} f_{y}} \\right)}}{\\left(f_{x}^{2} \\left(c_{y} - v\\right)^{2} + f_{y}^{2} \\left(c_{x} - u\\right)^{2}\\right)^{\\frac{3}{2}}} + \\frac{f_{x}^{2} \\left(c_{y} - v\\right)^{2} \\cos{\\left(\\frac{\\sqrt{f_{x}^{2} \\left(c_{y} - v\\right)^{2} + f_{y}^{2} \\left(c_{x} - u\\right)^{2}}}{f_{x} f_{y}} \\right)}}{f_{x}^{2} f_{y} \\left(c_{y} - v\\right)^{2} + f_{y}^{3} \\left(c_{x} - u\\right)^{2}} + \\frac{f_{x} \\sin{\\left(\\frac{\\sqrt{f_{x}^{2} \\left(c_{y} - v\\right)^{2} + f_{y}^{2} \\left(c_{x} - u\\right)^{2}}}{f_{x} f_{y}} \\right)}}{\\sqrt{f_{x}^{2} \\left(c_{y} - v\\right)^{2} + f_{y}^{2} \\left(c_{x} - u\\right)^{2}}}\\\\\\frac{f_{y} \\left(c_{x} - u\\right) \\sin{\\left(\\frac{\\sqrt{f_{x}^{2} \\left(c_{y} - v\\right)^{2} + f_{y}^{2} \\left(c_{x} - u\\right)^{2}}}{f_{x} f_{y}} \\right)}}{f_{x} \\sqrt{f_{x}^{2} \\left(c_{y} - v\\right)^{2} + f_{y}^{2} \\left(c_{x} - u\\right)^{2}}} & \\frac{f_{x} \\left(c_{y} - v\\right) \\sin{\\left(\\frac{\\sqrt{f_{x}^{2} \\left(c_{y} - v\\right)^{2} + f_{y}^{2} \\left(c_{x} - u\\right)^{2}}}{f_{x} f_{y}} \\right)}}{f_{y} \\sqrt{f_{x}^{2} \\left(c_{y} - v\\right)^{2} + f_{y}^{2} \\left(c_{x} - u\\right)^{2}}}\\end{matrix}\\right]$"
      ],
      "text/plain": [
       "Matrix([\n",
       "[-f_y**3*(c_x - u)**2*sin(sqrt(f_x**2*(c_y - v)**2 + f_y**2*(c_x - u)**2)/(f_x*f_y))/(f_x**2*(c_y - v)**2 + f_y**2*(c_x - u)**2)**(3/2) + f_y**2*(c_x - u)**2*cos(sqrt(f_x**2*(c_y - v)**2 + f_y**2*(c_x - u)**2)/(f_x*f_y))/(f_x**3*(c_y - v)**2 + f_x*f_y**2*(c_x - u)**2) + f_y*sin(sqrt(f_x**2*(c_y - v)**2 + f_y**2*(c_x - u)**2)/(f_x*f_y))/sqrt(f_x**2*(c_y - v)**2 + f_y**2*(c_x - u)**2),                                                                             f_x*(c_x - u)*(c_y - v)*(-f_x*f_y*(f_x**2*(c_y - v)**2 + f_y**2*(c_x - u)**2)*sin(sqrt(f_x**2*(c_y - v)**2 + f_y**2*(c_x - u)**2)/(f_x*f_y)) + (f_x**2*(c_y - v)**2 + f_y**2*(c_x - u)**2)**(3/2)*cos(sqrt(f_x**2*(c_y - v)**2 + f_y**2*(c_x - u)**2)/(f_x*f_y)))/(f_x**2*(c_y - v)**2 + f_y**2*(c_x - u)**2)**(5/2)],\n",
       "[                                                                            f_y*(c_x - u)*(c_y - v)*(-f_x*f_y*(f_x**2*(c_y - v)**2 + f_y**2*(c_x - u)**2)*sin(sqrt(f_x**2*(c_y - v)**2 + f_y**2*(c_x - u)**2)/(f_x*f_y)) + (f_x**2*(c_y - v)**2 + f_y**2*(c_x - u)**2)**(3/2)*cos(sqrt(f_x**2*(c_y - v)**2 + f_y**2*(c_x - u)**2)/(f_x*f_y)))/(f_x**2*(c_y - v)**2 + f_y**2*(c_x - u)**2)**(5/2), -f_x**3*(c_y - v)**2*sin(sqrt(f_x**2*(c_y - v)**2 + f_y**2*(c_x - u)**2)/(f_x*f_y))/(f_x**2*(c_y - v)**2 + f_y**2*(c_x - u)**2)**(3/2) + f_x**2*(c_y - v)**2*cos(sqrt(f_x**2*(c_y - v)**2 + f_y**2*(c_x - u)**2)/(f_x*f_y))/(f_x**2*f_y*(c_y - v)**2 + f_y**3*(c_x - u)**2) + f_x*sin(sqrt(f_x**2*(c_y - v)**2 + f_y**2*(c_x - u)**2)/(f_x*f_y))/sqrt(f_x**2*(c_y - v)**2 + f_y**2*(c_x - u)**2)],\n",
       "[                                                                                                                                                                                                                                                              f_y*(c_x - u)*sin(sqrt(f_x**2*(c_y - v)**2 + f_y**2*(c_x - u)**2)/(f_x*f_y))/(f_x*sqrt(f_x**2*(c_y - v)**2 + f_y**2*(c_x - u)**2)),                                                                                                                                                                                                                                                               f_x*(c_y - v)*sin(sqrt(f_x**2*(c_y - v)**2 + f_y**2*(c_x - u)**2)/(f_x*f_y))/(f_y*sqrt(f_x**2*(c_y - v)**2 + f_y**2*(c_x - u)**2))]])"
      ]
     },
     "execution_count": 14,
     "metadata": {},
     "output_type": "execute_result"
    }
   ],
   "source": [
    "delr_deluv = jacobian(r, sp.Matrix([u, v]))\n",
    "delr_deluv"
   ]
  },
  {
   "cell_type": "code",
   "execution_count": 15,
   "metadata": {},
   "outputs": [
    {
     "data": {
      "text/latex": [
       "$\\displaystyle \\left[\\begin{matrix}x_{13} + \\frac{x_{14} x_{5}}{f_{x} x_{5} + x_{15}} - x_{16} x_{18} & f_{x} x_{19}\\\\f_{y} x_{19} & \\frac{x_{14} x_{2}}{f_{y} x_{2} + x_{16}} - x_{15} x_{18} + x_{20}\\\\x_{13} x_{3} x_{8} & x_{0} x_{20} x_{9}\\end{matrix}\\right]$"
      ],
      "text/plain": [
       "Matrix([\n",
       "[x13 + x14*x5/(f_x*x5 + x15) - x16*x18,                               f_x*x19],\n",
       "[                              f_y*x19, x14*x2/(f_y*x2 + x16) - x15*x18 + x20],\n",
       "[                            x13*x3*x8,                             x0*x20*x9]])"
      ]
     },
     "execution_count": 15,
     "metadata": {},
     "output_type": "execute_result"
    }
   ],
   "source": [
    "sp.cse(delr_deluv)[1][0]"
   ]
  },
  {
   "cell_type": "code",
   "execution_count": 26,
   "metadata": {},
   "outputs": [],
   "source": [
    "deld_deluv = deld_delr_simple @ delr_deluv"
   ]
  },
  {
   "cell_type": "code",
   "execution_count": 30,
   "metadata": {},
   "outputs": [
    {
     "data": {
      "text/latex": [
       "$\\displaystyle \\left[\\begin{matrix}x_{14} x_{35} + x_{47} x_{62} + x_{66} x_{67} & x_{35} x_{69} + x_{47} x_{70} + x_{67} x_{71}\\\\x_{14} x_{84} + x_{62} x_{74} + x_{66} x_{88} & x_{69} x_{84} + x_{70} x_{74} + x_{71} x_{88}\\end{matrix}\\right]$"
      ],
      "text/plain": [
       "Matrix([\n",
       "[x14*x35 + x47*x62 + x66*x67, x35*x69 + x47*x70 + x67*x71],\n",
       "[x14*x84 + x62*x74 + x66*x88, x69*x84 + x70*x74 + x71*x88]])"
      ]
     },
     "execution_count": 30,
     "metadata": {},
     "output_type": "execute_result"
    }
   ],
   "source": [
    "sp.cse(deld_deluv)[1][0]"
   ]
  },
  {
   "cell_type": "code",
   "execution_count": null,
   "metadata": {},
   "outputs": [],
   "source": [
    "a = deld_deluv[0, 0].subs(mu_x, mu[0]).subs(mu_y, mu[1]).subs(mu_z, mu[2]).simplify()"
   ]
  },
  {
   "cell_type": "code",
   "execution_count": 26,
   "metadata": {},
   "outputs": [
    {
     "data": {
      "text/latex": [
       "$\\displaystyle \\frac{- r_{x} r_{y} t_{y} \\left(r_{x}^{2} + 1\\right) \\left(r_{x} t_{z} - t_{x}\\right) - r_{x} \\left(t_{x} \\left(r_{x}^{2} + 1\\right) \\left(r_{x} t_{x} + r_{y} t_{y} + t_{z}\\right) + t_{z} \\left(r_{x}^{2} + 1\\right) \\left(r_{x} t_{z} - t_{x}\\right) + \\left(r_{x} t_{z} - t_{x}\\right) \\left(r_{x} t_{x} + r_{y} t_{y} + t_{z}\\right)\\right) + \\left(r_{y}^{2} + 1\\right) \\left(r_{x} \\left(r_{x} t_{z} - t_{x}\\right) \\left(r_{x} t_{x} + r_{y} t_{y} + t_{z}\\right) + t_{x} \\left(r_{x}^{2} + 1\\right) \\left(r_{x} t_{z} - t_{x}\\right) - t_{z} \\left(r_{x}^{2} + 1\\right) \\left(r_{x} t_{x} + r_{y} t_{y} + t_{z}\\right)\\right)}{f_{x} \\left(r_{x}^{2} + 1\\right)^{\\frac{3}{2}} \\sqrt{r_{x}^{2} + r_{y}^{2} + 1} \\left(r_{x} t_{x} + r_{y} t_{y} + t_{z}\\right)^{2}}$"
      ],
      "text/plain": [
       "(-r_x*r_y*t_y*(r_x**2 + 1)*(r_x*t_z - t_x) - r_x*(t_x*(r_x**2 + 1)*(r_x*t_x + r_y*t_y + t_z) + t_z*(r_x**2 + 1)*(r_x*t_z - t_x) + (r_x*t_z - t_x)*(r_x*t_x + r_y*t_y + t_z)) + (r_y**2 + 1)*(r_x*(r_x*t_z - t_x)*(r_x*t_x + r_y*t_y + t_z) + t_x*(r_x**2 + 1)*(r_x*t_z - t_x) - t_z*(r_x**2 + 1)*(r_x*t_x + r_y*t_y + t_z)))/(f_x*(r_x**2 + 1)**(3/2)*sqrt(r_x**2 + r_y**2 + 1)*(r_x*t_x + r_y*t_y + t_z)**2)"
      ]
     },
     "execution_count": 26,
     "metadata": {},
     "output_type": "execute_result"
    }
   ],
   "source": [
    "b = a.subs(r_z, r[2]).simplify()\n",
    "b"
   ]
  },
  {
   "cell_type": "code",
   "execution_count": 32,
   "metadata": {},
   "outputs": [
    {
     "data": {
      "text/latex": [
       "$\\displaystyle \\left[\\begin{matrix}\\frac{- r_{x} r_{y} t_{y} \\left(r_{x}^{2} + 1\\right) \\left(r_{x} t_{z} - t_{x}\\right) - r_{x} \\left(t_{x} \\left(r_{x}^{2} + 1\\right) \\left(r_{x} t_{x} + r_{y} t_{y} + t_{z}\\right) + t_{z} \\left(r_{x}^{2} + 1\\right) \\left(r_{x} t_{z} - t_{x}\\right) + \\left(r_{x} t_{z} - t_{x}\\right) \\left(r_{x} t_{x} + r_{y} t_{y} + t_{z}\\right)\\right) + \\left(r_{y}^{2} + 1\\right) \\left(r_{x} \\left(r_{x} t_{z} - t_{x}\\right) \\left(r_{x} t_{x} + r_{y} t_{y} + t_{z}\\right) + t_{x} \\left(r_{x}^{2} + 1\\right) \\left(r_{x} t_{z} - t_{x}\\right) - t_{z} \\left(r_{x}^{2} + 1\\right) \\left(r_{x} t_{x} + r_{y} t_{y} + t_{z}\\right)\\right)}{f_{x} \\left(r_{x}^{2} + 1\\right)^{\\frac{3}{2}} \\sqrt{r_{x}^{2} + r_{y}^{2} + 1} \\left(r_{x} t_{x} + r_{y} t_{y} + t_{z}\\right)^{2}} & \\frac{r_{x}^{3} t_{y} t_{z} - r_{x}^{2} r_{y} t_{x} t_{z} - r_{x}^{2} t_{x} t_{y} + r_{x} r_{y} t_{x}^{2} - r_{x} r_{y} t_{z}^{2} + r_{x} t_{y} t_{z} + r_{y} t_{x} t_{z} - t_{x} t_{y}}{f_{y} \\sqrt{r_{x}^{2} + 1} \\sqrt{r_{x}^{2} + r_{y}^{2} + 1} \\left(r_{x}^{2} t_{x}^{2} + 2 r_{x} r_{y} t_{x} t_{y} + 2 r_{x} t_{x} t_{z} + r_{y}^{2} t_{y}^{2} + 2 r_{y} t_{y} t_{z} + t_{z}^{2}\\right)}\\\\\\frac{r_{x}^{3} r_{y} t_{x}^{2} + r_{x}^{3} r_{y} t_{y}^{2} + r_{x}^{3} t_{y} t_{z} + 2 r_{x}^{2} r_{y} t_{x} t_{z} - r_{x}^{2} t_{x} t_{y} + r_{x} r_{y}^{2} t_{y} t_{z} + r_{x} r_{y} t_{y}^{2} + r_{x} r_{y} t_{z}^{2} + r_{x} t_{y} t_{z} - r_{y}^{2} t_{x} t_{y} - t_{x} t_{y}}{f_{x} \\sqrt{r_{x}^{2} + 1} \\left(r_{x}^{4} t_{x}^{2} + 2 r_{x}^{3} r_{y} t_{x} t_{y} + 2 r_{x}^{3} t_{x} t_{z} + r_{x}^{2} r_{y}^{2} t_{y}^{2} + 2 r_{x}^{2} r_{y} t_{y} t_{z} + r_{x}^{2} t_{x}^{2} + r_{x}^{2} t_{z}^{2} + 2 r_{x} r_{y} t_{x} t_{y} + 2 r_{x} t_{x} t_{z} + r_{y}^{2} t_{y}^{2} + 2 r_{y} t_{y} t_{z} + t_{z}^{2}\\right)} & \\frac{- r_{x}^{2} t_{x}^{2} - r_{x}^{2} t_{y}^{2} - 2 r_{x} t_{x} t_{z} - t_{y}^{2} - t_{z}^{2}}{f_{y} \\sqrt{r_{x}^{2} + 1} \\left(r_{x}^{2} t_{x}^{2} + 2 r_{x} r_{y} t_{x} t_{y} + 2 r_{x} t_{x} t_{z} + r_{y}^{2} t_{y}^{2} + 2 r_{y} t_{y} t_{z} + t_{z}^{2}\\right)}\\end{matrix}\\right]$"
      ],
      "text/plain": [
       "Matrix([\n",
       "[                               (-r_x*r_y*t_y*(r_x**2 + 1)*(r_x*t_z - t_x) - r_x*(t_x*(r_x**2 + 1)*(r_x*t_x + r_y*t_y + t_z) + t_z*(r_x**2 + 1)*(r_x*t_z - t_x) + (r_x*t_z - t_x)*(r_x*t_x + r_y*t_y + t_z)) + (r_y**2 + 1)*(r_x*(r_x*t_z - t_x)*(r_x*t_x + r_y*t_y + t_z) + t_x*(r_x**2 + 1)*(r_x*t_z - t_x) - t_z*(r_x**2 + 1)*(r_x*t_x + r_y*t_y + t_z)))/(f_x*(r_x**2 + 1)**(3/2)*sqrt(r_x**2 + r_y**2 + 1)*(r_x*t_x + r_y*t_y + t_z)**2), (r_x**3*t_y*t_z - r_x**2*r_y*t_x*t_z - r_x**2*t_x*t_y + r_x*r_y*t_x**2 - r_x*r_y*t_z**2 + r_x*t_y*t_z + r_y*t_x*t_z - t_x*t_y)/(f_y*sqrt(r_x**2 + 1)*sqrt(r_x**2 + r_y**2 + 1)*(r_x**2*t_x**2 + 2*r_x*r_y*t_x*t_y + 2*r_x*t_x*t_z + r_y**2*t_y**2 + 2*r_y*t_y*t_z + t_z**2))],\n",
       "[(r_x**3*r_y*t_x**2 + r_x**3*r_y*t_y**2 + r_x**3*t_y*t_z + 2*r_x**2*r_y*t_x*t_z - r_x**2*t_x*t_y + r_x*r_y**2*t_y*t_z + r_x*r_y*t_y**2 + r_x*r_y*t_z**2 + r_x*t_y*t_z - r_y**2*t_x*t_y - t_x*t_y)/(f_x*sqrt(r_x**2 + 1)*(r_x**4*t_x**2 + 2*r_x**3*r_y*t_x*t_y + 2*r_x**3*t_x*t_z + r_x**2*r_y**2*t_y**2 + 2*r_x**2*r_y*t_y*t_z + r_x**2*t_x**2 + r_x**2*t_z**2 + 2*r_x*r_y*t_x*t_y + 2*r_x*t_x*t_z + r_y**2*t_y**2 + 2*r_y*t_y*t_z + t_z**2)),                                                                                       (-r_x**2*t_x**2 - r_x**2*t_y**2 - 2*r_x*t_x*t_z - t_y**2 - t_z**2)/(f_y*sqrt(r_x**2 + 1)*(r_x**2*t_x**2 + 2*r_x*r_y*t_x*t_y + 2*r_x*t_x*t_z + r_y**2*t_y**2 + 2*r_y*t_y*t_z + t_z**2))]])"
      ]
     },
     "execution_count": 32,
     "metadata": {},
     "output_type": "execute_result"
    }
   ],
   "source": [
    "deld_deluv_simple = deld_deluv.copy()\n",
    "deld_deluv_simple = deld_deluv_simple.subs(mu_x, mu[0]).subs(mu_y, mu[1]).subs(mu_z, mu[2]).subs(r_z, r[2])\n",
    "deld_deluv_simple.simplify()\n",
    "deld_deluv_simple"
   ]
  },
  {
   "cell_type": "code",
   "execution_count": 35,
   "metadata": {},
   "outputs": [],
   "source": [
    "variables, exp = sp.cse(deld_deluv_simple)"
   ]
  },
  {
   "cell_type": "code",
   "execution_count": 38,
   "metadata": {},
   "outputs": [
    {
     "data": {
      "text/plain": [
       "[(x0, 1/f_x),\n",
       " (x1, r_x**2),\n",
       " (x2, x1 + 1),\n",
       " (x3, r_y**2),\n",
       " (x4, 1/sqrt(x2 + x3)),\n",
       " (x5, r_x*t_x),\n",
       " (x6, r_y*t_y),\n",
       " (x7, t_z + x5 + x6),\n",
       " (x8, r_x*t_z),\n",
       " (x9, -t_x + x8),\n",
       " (x10, t_z*x2),\n",
       " (x11, t_x*x2),\n",
       " (x12, x7*x9),\n",
       " (x13, t_x**2),\n",
       " (x14, r_x*r_y),\n",
       " (x15, t_x*t_z),\n",
       " (x16, r_y*x15),\n",
       " (x17, t_z**2),\n",
       " (x18, x14*x17),\n",
       " (x19, x1*x16),\n",
       " (x20, t_x*t_y),\n",
       " (x21, t_y*x8),\n",
       " (x22, r_x**3),\n",
       " (x23, t_y*t_z*x22 - x1*x20 - x20 + x21),\n",
       " (x24, 1/sqrt(x2)),\n",
       " (x25, t_y**2),\n",
       " (x26, x25*x3),\n",
       " (x27, 2*t_z),\n",
       " (x28, x27*x6),\n",
       " (x29, x1*x13 + x17 + x27*x5),\n",
       " (x30, x26 + x28 + x29 + 2*x5*x6),\n",
       " (x31, x24/(f_y*x30)),\n",
       " (x32, r_y*x22),\n",
       " (x33, 2*x22)]"
      ]
     },
     "execution_count": 38,
     "metadata": {},
     "output_type": "execute_result"
    }
   ],
   "source": [
    "variables"
   ]
  },
  {
   "cell_type": "code",
   "execution_count": 37,
   "metadata": {},
   "outputs": [
    {
     "data": {
      "text/latex": [
       "$\\displaystyle \\left[\\begin{matrix}\\frac{x_{0} x_{4} \\left(- r_{x} x_{2} x_{6} x_{9} - r_{x} \\left(x_{10} x_{9} + x_{11} x_{7} + x_{12}\\right) + \\left(x_{3} + 1\\right) \\left(r_{x} x_{12} - x_{10} x_{7} + x_{11} x_{9}\\right)\\right)}{x_{2}^{\\frac{3}{2}} x_{7}^{2}} & x_{31} x_{4} \\left(x_{13} x_{14} + x_{16} - x_{18} - x_{19} + x_{23}\\right)\\\\\\frac{x_{0} x_{24} \\left(x_{13} x_{32} + x_{14} x_{25} + x_{18} + 2 x_{19} - x_{20} x_{3} + x_{21} x_{3} + x_{23} + x_{25} x_{32}\\right)}{r_{x}^{4} x_{13} + t_{x} x_{33} x_{6} + x_{1} x_{17} + x_{1} x_{26} + x_{1} x_{28} + x_{15} x_{33} + x_{30}} & x_{31} \\left(- x_{1} x_{25} - x_{25} - x_{29}\\right)\\end{matrix}\\right]$"
      ],
      "text/plain": [
       "Matrix([\n",
       "[                                   x0*x4*(-r_x*x2*x6*x9 - r_x*(x10*x9 + x11*x7 + x12) + (x3 + 1)*(r_x*x12 - x10*x7 + x11*x9))/(x2**(3/2)*x7**2), x31*x4*(x13*x14 + x16 - x18 - x19 + x23)],\n",
       "[x0*x24*(x13*x32 + x14*x25 + x18 + 2*x19 - x20*x3 + x21*x3 + x23 + x25*x32)/(r_x**4*x13 + t_x*x33*x6 + x1*x17 + x1*x26 + x1*x28 + x15*x33 + x30),                x31*(-x1*x25 - x25 - x29)]])"
      ]
     },
     "execution_count": 37,
     "metadata": {},
     "output_type": "execute_result"
    }
   ],
   "source": [
    "exp[0]"
   ]
  }
 ],
 "metadata": {
  "kernelspec": {
   "display_name": "optisplat",
   "language": "python",
   "name": "python3"
  },
  "language_info": {
   "codemirror_mode": {
    "name": "ipython",
    "version": 3
   },
   "file_extension": ".py",
   "mimetype": "text/x-python",
   "name": "python",
   "nbconvert_exporter": "python",
   "pygments_lexer": "ipython3",
   "version": "3.7.12"
  }
 },
 "nbformat": 4,
 "nbformat_minor": 2
}
